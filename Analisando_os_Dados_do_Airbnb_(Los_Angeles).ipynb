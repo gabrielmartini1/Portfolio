{
  "nbformat": 4,
  "nbformat_minor": 0,
  "metadata": {
    "colab": {
      "provenance": [],
      "include_colab_link": true
    },
    "kernelspec": {
      "name": "python3",
      "display_name": "Python 3"
    }
  },
  "cells": [
    {
      "cell_type": "markdown",
      "metadata": {
        "id": "view-in-github",
        "colab_type": "text"
      },
      "source": [
        "<a href=\"https://colab.research.google.com/github/gmartini1/projects_in_data_science/blob/main/Analisando_os_Dados_do_Airbnb_(Los_Angeles).ipynb\" target=\"_parent\"><img src=\"https://colab.research.google.com/assets/colab-badge.svg\" alt=\"Open In Colab\"/></a>"
      ]
    },
    {
      "cell_type": "markdown",
      "metadata": {
        "id": "kLI0gJtzDGuQ"
      },
      "source": [
        "---\n",
        "## <center>Análise dos Dados do Airbnb - **Los Angeles, Califórnia**\n",
        "\n",
        "---\n",
        "<center>by Gabriel Martini - Data Scientist</center>\n",
        "<center>February 28, 2023</center> \n",
        "<br> \n",
        "\n",
        "<center><img alt=\"Colaboratory logo\" width=\"100%\" src=\"https://github.com/gmartini1/mx_data_science/blob/main/city.jpg?raw=true\"></center>\n",
        "\n",
        "<br>\n",
        "<p align=\"justify\">O Airbnb é uma plataforma online que permite que pessoas ofereçam acomodações para aluguel, desde quartos compartilhados até casas inteiras. A empresa ganha dinheiro cobrando uma taxa de serviço tanto dos anfitriões quanto dos hóspedes.\n",
        "<br>\n",
        "\n",
        "<p align=\"justify\">Conectando pessoas que querem viajar (e se hospedar) com anfitriões que querem alugar seus imóveis de maneira prática, o Airbnb fornece uma plataforma inovadora para tornar essa hospedagem alternativa.\n",
        "\n",
        "<p align=\"justify\">Fundada em 2008, a empresa expandiu rapidamente o seu negócio e atualmente está presente em 220 países, onde já hospedou mais de 750 milhões de pessoas com seus 4 milhões de anúncios ativos dentro da sua plataforma. \n",
        "\n",
        "<p align=\"justify\">O Airbnb enfrenta concorrência de outras empresas de aluguel de curto prazo, como a Vrbo e a Booking.com, além de hotéis e pousadas tradicionais.</p>\n",
        "\n",
        "**Neste *notebook*, iremos analisar os dados referentes à cidade de Los Angeles, e ver quais insights podem ser extraídos a partir de dados brutos.**"
      ]
    },
    {
      "cell_type": "markdown",
      "source": [
        "<center><img alt=\"Colaboratory logo\" width=\"45%\" src=\"https://github.com/gmartini1/mx_data_science/blob/main/logo_city.png?raw=true\"></center>"
      ],
      "metadata": {
        "id": "O7zNRMKvWmAO"
      }
    },
    {
      "cell_type": "markdown",
      "metadata": {
        "id": "0zxQHhIUDF_2"
      },
      "source": [
        "## Obtenção dos Dados"
      ]
    },
    {
      "cell_type": "markdown",
      "source": [
        "<p align=\"justify\">\n",
        "O principal obejtivo desta pesquisa exploratória, deve-se ao levantamento de insights para um melhor entendimento sobre o mercado de hospedagem em Los Angeles. Dentre as possíveis análises que podem ser realizadas, incluem:</p>\n",
        "<br>\n",
        "\n",
        "**1 - Análise descritiva dos dados**\n",
        "<p align=\"justify\"> Nesta etapa inicial do projeto, faremos o levantamento estatístico descritivo dos dados, ou seja, vamos obter os resultados da média, mediana, desvio padrão, correlação, mínimo e máximo para analisarmos a distribuição dos dados e identificar possíveis outliers.</p><br>\n",
        "\n",
        "**2 - Análise geoespacial**\n",
        "<p align=\"justify\"> Os dados de localização dos imóveis podem ser utilizados para criar mapas que mostram a distribuição das hospedagens em diferentes áreas de Los Angeles. Isso pode ajudar a identificar as áreas mais populares entre os turistas, e ainda, avaliar a concorrência entre hospedagens.</p><br>\n",
        "\n",
        "**3 - Análise de preços**\n",
        "<p align=\"justify\"> Será possível analisar os preços das hospedagens em diferentes áreas de Los Angeles e identificar padrões e tendências nos preços. Por exemplo, podemos verificar se existem áreas mais caras ou mais baratas para se hospedar em Los Angeles.</p><br>\n",
        "\n",
        "**4 - Análise de comentários e avaliações (reviews)**\n",
        "<p align=\"justify\"> Esses dados podem ser utilizados para avaliar a qualidade das hospedagens em Los Angeles e identificar possíveis pontos de melhoria para os imóveis dos anfitriões.</p><br>\n",
        "\n",
        "**5 - Análise de tendências ao longo do tempo**\n",
        "<p align=\"justify\"> É possível analisar os dados ao longo do tempo para identificar tendências e padrões sazonais no mercado de hospedagem em Los Angeles. Um ótimo exemplo seria verificar se existem épocas do ano em que a demanda por hospedagens é maior ou se os preços praticados das hospedagens variam ao longo do ano.</p><br>\n",
        "\n",
        "Para a realização da análise exploratória dos dados, referente à cidade de Los Angeles, todas as informações foram extraídas do portal [Inside Airbnb](http://insideairbnb.com/get-the-data.html), utilizando o arquivo de captura [listings.csv](http://data.insideairbnb.com/united-states/ca/los-angeles/2022-12-06/visualisations/listings.csv)."
      ],
      "metadata": {
        "id": "O0hjLZXg82g9"
      }
    },
    {
      "cell_type": "code",
      "metadata": {
        "id": "Vhp2wMPgJ6zX"
      },
      "source": [
        "# importando os pacotes necessarios\n",
        "import pandas as pd\n",
        "import numpy as np\n",
        "import matplotlib.pyplot as plt\n",
        "import seaborn as sns\n",
        "%matplotlib inline\n",
        "import folium\n",
        "from folium.plugins import HeatMap"
      ],
      "execution_count": 1,
      "outputs": []
    },
    {
      "cell_type": "code",
      "metadata": {
        "id": "tUmoAT8DLQ5T"
      },
      "source": [
        "# importar o arquivo listings.csv (Summary information and metrics for listings in Los Angeles ) para um DataFrame\n",
        "df = pd.read_csv(\"http://data.insideairbnb.com/united-states/ca/los-angeles/2022-12-06/visualisations/listings.csv\")"
      ],
      "execution_count": 2,
      "outputs": []
    },
    {
      "cell_type": "markdown",
      "metadata": {
        "id": "qb5By2nIMS6m"
      },
      "source": [
        "## Análise dos Dados\n"
      ]
    },
    {
      "cell_type": "markdown",
      "metadata": {
        "id": "RYgvuebKNg8-"
      },
      "source": [
        "**Dicionário das variáveis**\n",
        "\n",
        "* `id` - chave de id gerado para identificar o imóvel\n",
        "* `name` - nome da propriedade anunciada\n",
        "* `host_id` - chave de id do proprietário (anfitrião) da propriedade\n",
        "* `host_name` - nome do proprietário do imóvel (anfitrião)\n",
        "* `neighbourhood_group` - esta coluna não contém nenhum valor válido\n",
        "* `neighbourhood` - nome do bairro onde está localizado o imóvel\n",
        "* `latitude` - coordenada da latitude da propriedade\n",
        "* `longitude` - coordenada da longitude da propriedade\n",
        "* `room_type` - apresenta o tipo de quarto que é oferecido\n",
        "* `price` - preço para alugar o imóvel\n",
        "* `minimum_nights` - quantidade mínima de noites para reservar o imóvel\n",
        "* `number_of_reviews` - número de avaliações que a propriedade possui\n",
        "* `last_review` - data da última avaliação do imóvel\n",
        "* `reviews_per_month` - quantidade de avaliações por mês\n",
        "* `calculated_host_listings_count` - quantidade de imóveis do mesmo anfitrião\n",
        "* `availability_365` - número de dias de disponibilidade dentro de 365 dias\n"
      ]
    },
    {
      "cell_type": "markdown",
      "source": [
        "<p align=\"justify\">Após carregarmos o arquivo, já é possível iniciarmos a análise exploratória dos dados para extrair insights e entendermos melhor o mercado de hospedagens em Los Angeles.</p>\n",
        "<br>\n",
        "\n",
        "### **Análise Descritiva dos dados**"
      ],
      "metadata": {
        "id": "P55zs7HxRnB_"
      }
    },
    {
      "cell_type": "code",
      "metadata": {
        "id": "2iS_dae7YQtO",
        "colab": {
          "base_uri": "https://localhost:8080/",
          "height": 565
        },
        "outputId": "61ac8ce0-4e33-4d4e-b6f6-8285ec51cfc7"
      },
      "source": [
        "# Visualizar as 5 primeiras entradas do dataset\n",
        "df.head()"
      ],
      "execution_count": 3,
      "outputs": [
        {
          "output_type": "execute_result",
          "data": {
            "text/plain": [
              "       id                                               name  host_id  \\\n",
              "0     109  Amazing bright elegant condo park front *UPGRA...      521   \n",
              "1    2708  Runyon Canyon | Beau Furn Mirror Mini-Suite Fi...     3008   \n",
              "2    2732                              Zen Life at the Beach     3041   \n",
              "3   65467                       A Luxury Home in Los Angeles    61864   \n",
              "4  206662                 Hollywood & Hiking, 30 day minimum    33861   \n",
              "\n",
              "        host_name  neighbourhood_group         neighbourhood  latitude  \\\n",
              "0           Paolo         Other Cities           Culver City  33.98301   \n",
              "1           Chas.  City of Los Angeles             Hollywood  34.09625   \n",
              "2  Yoga Priestess         Other Cities          Santa Monica  34.00440   \n",
              "3         Olivier         Other Cities           Culver City  34.02438   \n",
              "4           Kevin  City of Los Angeles  Hollywood Hills West  34.10420   \n",
              "\n",
              "   longitude        room_type  price  minimum_nights  number_of_reviews  \\\n",
              "0 -118.38607  Entire home/apt    115              30                  2   \n",
              "1 -118.34605     Private room    118              30                 38   \n",
              "2 -118.48095     Private room    179               7                 24   \n",
              "3 -118.38374     Private room    300              60                  0   \n",
              "4 -118.34748     Private room     46              30                 95   \n",
              "\n",
              "  last_review  reviews_per_month  calculated_host_listings_count  \\\n",
              "0  2016-05-15               0.01                               1   \n",
              "1  2022-11-29               0.37                               2   \n",
              "2  2022-08-21               0.17                               2   \n",
              "3         NaN                NaN                               2   \n",
              "4  2022-08-11               0.71                               1   \n",
              "\n",
              "   availability_365  number_of_reviews_ltm license  \n",
              "0               227                      0     NaN  \n",
              "1               239                      5     NaN  \n",
              "2               365                      3     NaN  \n",
              "3               365                      0     NaN  \n",
              "4                84                      4     NaN  "
            ],
            "text/html": [
              "\n",
              "  <div id=\"df-81aa1a89-8834-4451-a41c-8a870f8df3a0\">\n",
              "    <div class=\"colab-df-container\">\n",
              "      <div>\n",
              "<style scoped>\n",
              "    .dataframe tbody tr th:only-of-type {\n",
              "        vertical-align: middle;\n",
              "    }\n",
              "\n",
              "    .dataframe tbody tr th {\n",
              "        vertical-align: top;\n",
              "    }\n",
              "\n",
              "    .dataframe thead th {\n",
              "        text-align: right;\n",
              "    }\n",
              "</style>\n",
              "<table border=\"1\" class=\"dataframe\">\n",
              "  <thead>\n",
              "    <tr style=\"text-align: right;\">\n",
              "      <th></th>\n",
              "      <th>id</th>\n",
              "      <th>name</th>\n",
              "      <th>host_id</th>\n",
              "      <th>host_name</th>\n",
              "      <th>neighbourhood_group</th>\n",
              "      <th>neighbourhood</th>\n",
              "      <th>latitude</th>\n",
              "      <th>longitude</th>\n",
              "      <th>room_type</th>\n",
              "      <th>price</th>\n",
              "      <th>minimum_nights</th>\n",
              "      <th>number_of_reviews</th>\n",
              "      <th>last_review</th>\n",
              "      <th>reviews_per_month</th>\n",
              "      <th>calculated_host_listings_count</th>\n",
              "      <th>availability_365</th>\n",
              "      <th>number_of_reviews_ltm</th>\n",
              "      <th>license</th>\n",
              "    </tr>\n",
              "  </thead>\n",
              "  <tbody>\n",
              "    <tr>\n",
              "      <th>0</th>\n",
              "      <td>109</td>\n",
              "      <td>Amazing bright elegant condo park front *UPGRA...</td>\n",
              "      <td>521</td>\n",
              "      <td>Paolo</td>\n",
              "      <td>Other Cities</td>\n",
              "      <td>Culver City</td>\n",
              "      <td>33.98301</td>\n",
              "      <td>-118.38607</td>\n",
              "      <td>Entire home/apt</td>\n",
              "      <td>115</td>\n",
              "      <td>30</td>\n",
              "      <td>2</td>\n",
              "      <td>2016-05-15</td>\n",
              "      <td>0.01</td>\n",
              "      <td>1</td>\n",
              "      <td>227</td>\n",
              "      <td>0</td>\n",
              "      <td>NaN</td>\n",
              "    </tr>\n",
              "    <tr>\n",
              "      <th>1</th>\n",
              "      <td>2708</td>\n",
              "      <td>Runyon Canyon | Beau Furn Mirror Mini-Suite Fi...</td>\n",
              "      <td>3008</td>\n",
              "      <td>Chas.</td>\n",
              "      <td>City of Los Angeles</td>\n",
              "      <td>Hollywood</td>\n",
              "      <td>34.09625</td>\n",
              "      <td>-118.34605</td>\n",
              "      <td>Private room</td>\n",
              "      <td>118</td>\n",
              "      <td>30</td>\n",
              "      <td>38</td>\n",
              "      <td>2022-11-29</td>\n",
              "      <td>0.37</td>\n",
              "      <td>2</td>\n",
              "      <td>239</td>\n",
              "      <td>5</td>\n",
              "      <td>NaN</td>\n",
              "    </tr>\n",
              "    <tr>\n",
              "      <th>2</th>\n",
              "      <td>2732</td>\n",
              "      <td>Zen Life at the Beach</td>\n",
              "      <td>3041</td>\n",
              "      <td>Yoga Priestess</td>\n",
              "      <td>Other Cities</td>\n",
              "      <td>Santa Monica</td>\n",
              "      <td>34.00440</td>\n",
              "      <td>-118.48095</td>\n",
              "      <td>Private room</td>\n",
              "      <td>179</td>\n",
              "      <td>7</td>\n",
              "      <td>24</td>\n",
              "      <td>2022-08-21</td>\n",
              "      <td>0.17</td>\n",
              "      <td>2</td>\n",
              "      <td>365</td>\n",
              "      <td>3</td>\n",
              "      <td>NaN</td>\n",
              "    </tr>\n",
              "    <tr>\n",
              "      <th>3</th>\n",
              "      <td>65467</td>\n",
              "      <td>A Luxury Home in Los Angeles</td>\n",
              "      <td>61864</td>\n",
              "      <td>Olivier</td>\n",
              "      <td>Other Cities</td>\n",
              "      <td>Culver City</td>\n",
              "      <td>34.02438</td>\n",
              "      <td>-118.38374</td>\n",
              "      <td>Private room</td>\n",
              "      <td>300</td>\n",
              "      <td>60</td>\n",
              "      <td>0</td>\n",
              "      <td>NaN</td>\n",
              "      <td>NaN</td>\n",
              "      <td>2</td>\n",
              "      <td>365</td>\n",
              "      <td>0</td>\n",
              "      <td>NaN</td>\n",
              "    </tr>\n",
              "    <tr>\n",
              "      <th>4</th>\n",
              "      <td>206662</td>\n",
              "      <td>Hollywood &amp; Hiking, 30 day minimum</td>\n",
              "      <td>33861</td>\n",
              "      <td>Kevin</td>\n",
              "      <td>City of Los Angeles</td>\n",
              "      <td>Hollywood Hills West</td>\n",
              "      <td>34.10420</td>\n",
              "      <td>-118.34748</td>\n",
              "      <td>Private room</td>\n",
              "      <td>46</td>\n",
              "      <td>30</td>\n",
              "      <td>95</td>\n",
              "      <td>2022-08-11</td>\n",
              "      <td>0.71</td>\n",
              "      <td>1</td>\n",
              "      <td>84</td>\n",
              "      <td>4</td>\n",
              "      <td>NaN</td>\n",
              "    </tr>\n",
              "  </tbody>\n",
              "</table>\n",
              "</div>\n",
              "      <button class=\"colab-df-convert\" onclick=\"convertToInteractive('df-81aa1a89-8834-4451-a41c-8a870f8df3a0')\"\n",
              "              title=\"Convert this dataframe to an interactive table.\"\n",
              "              style=\"display:none;\">\n",
              "        \n",
              "  <svg xmlns=\"http://www.w3.org/2000/svg\" height=\"24px\"viewBox=\"0 0 24 24\"\n",
              "       width=\"24px\">\n",
              "    <path d=\"M0 0h24v24H0V0z\" fill=\"none\"/>\n",
              "    <path d=\"M18.56 5.44l.94 2.06.94-2.06 2.06-.94-2.06-.94-.94-2.06-.94 2.06-2.06.94zm-11 1L8.5 8.5l.94-2.06 2.06-.94-2.06-.94L8.5 2.5l-.94 2.06-2.06.94zm10 10l.94 2.06.94-2.06 2.06-.94-2.06-.94-.94-2.06-.94 2.06-2.06.94z\"/><path d=\"M17.41 7.96l-1.37-1.37c-.4-.4-.92-.59-1.43-.59-.52 0-1.04.2-1.43.59L10.3 9.45l-7.72 7.72c-.78.78-.78 2.05 0 2.83L4 21.41c.39.39.9.59 1.41.59.51 0 1.02-.2 1.41-.59l7.78-7.78 2.81-2.81c.8-.78.8-2.07 0-2.86zM5.41 20L4 18.59l7.72-7.72 1.47 1.35L5.41 20z\"/>\n",
              "  </svg>\n",
              "      </button>\n",
              "      \n",
              "  <style>\n",
              "    .colab-df-container {\n",
              "      display:flex;\n",
              "      flex-wrap:wrap;\n",
              "      gap: 12px;\n",
              "    }\n",
              "\n",
              "    .colab-df-convert {\n",
              "      background-color: #E8F0FE;\n",
              "      border: none;\n",
              "      border-radius: 50%;\n",
              "      cursor: pointer;\n",
              "      display: none;\n",
              "      fill: #1967D2;\n",
              "      height: 32px;\n",
              "      padding: 0 0 0 0;\n",
              "      width: 32px;\n",
              "    }\n",
              "\n",
              "    .colab-df-convert:hover {\n",
              "      background-color: #E2EBFA;\n",
              "      box-shadow: 0px 1px 2px rgba(60, 64, 67, 0.3), 0px 1px 3px 1px rgba(60, 64, 67, 0.15);\n",
              "      fill: #174EA6;\n",
              "    }\n",
              "\n",
              "    [theme=dark] .colab-df-convert {\n",
              "      background-color: #3B4455;\n",
              "      fill: #D2E3FC;\n",
              "    }\n",
              "\n",
              "    [theme=dark] .colab-df-convert:hover {\n",
              "      background-color: #434B5C;\n",
              "      box-shadow: 0px 1px 3px 1px rgba(0, 0, 0, 0.15);\n",
              "      filter: drop-shadow(0px 1px 2px rgba(0, 0, 0, 0.3));\n",
              "      fill: #FFFFFF;\n",
              "    }\n",
              "  </style>\n",
              "\n",
              "      <script>\n",
              "        const buttonEl =\n",
              "          document.querySelector('#df-81aa1a89-8834-4451-a41c-8a870f8df3a0 button.colab-df-convert');\n",
              "        buttonEl.style.display =\n",
              "          google.colab.kernel.accessAllowed ? 'block' : 'none';\n",
              "\n",
              "        async function convertToInteractive(key) {\n",
              "          const element = document.querySelector('#df-81aa1a89-8834-4451-a41c-8a870f8df3a0');\n",
              "          const dataTable =\n",
              "            await google.colab.kernel.invokeFunction('convertToInteractive',\n",
              "                                                     [key], {});\n",
              "          if (!dataTable) return;\n",
              "\n",
              "          const docLinkHtml = 'Like what you see? Visit the ' +\n",
              "            '<a target=\"_blank\" href=https://colab.research.google.com/notebooks/data_table.ipynb>data table notebook</a>'\n",
              "            + ' to learn more about interactive tables.';\n",
              "          element.innerHTML = '';\n",
              "          dataTable['output_type'] = 'display_data';\n",
              "          await google.colab.output.renderOutput(dataTable, element);\n",
              "          const docLink = document.createElement('div');\n",
              "          docLink.innerHTML = docLinkHtml;\n",
              "          element.appendChild(docLink);\n",
              "        }\n",
              "      </script>\n",
              "    </div>\n",
              "  </div>\n",
              "  "
            ]
          },
          "metadata": {},
          "execution_count": 3
        }
      ]
    },
    {
      "cell_type": "code",
      "source": [
        "# Visualizar as 5 últimas entradas do dataset\n",
        "df.tail()"
      ],
      "metadata": {
        "colab": {
          "base_uri": "https://localhost:8080/",
          "height": 548
        },
        "id": "iIPIbYXN0fZM",
        "outputId": "7973ca5a-bf0b-47d4-ce2a-69ac67ddfc80"
      },
      "execution_count": 4,
      "outputs": [
        {
          "output_type": "execute_result",
          "data": {
            "text/plain": [
              "                       id                                  name    host_id  \\\n",
              "40433  774860592421665035      Cozy Hollywood Studio with Patio  458988009   \n",
              "40434  774864578948159716      Playa Vista  2BR W/ Private Wifi  187543153   \n",
              "40435  774866706304798119          Centrally Located LA Retreat   41968542   \n",
              "40436  774872573559544018  2BR Bungalow in Culver City-Near LAX  462077128   \n",
              "40437  774889783296314664                 洛杉矶*熙臻行馆Venetian 独立雅房  183748799   \n",
              "\n",
              "       host_name  neighbourhood_group   neighbourhood   latitude   longitude  \\\n",
              "40433  Hollywood         Other Cities  West Hollywood  34.091006 -118.344620   \n",
              "40434     Elliot  City of Los Angeles     Playa Vista  33.975508 -118.430657   \n",
              "40435         Mo  City of Los Angeles    Leimert Park  34.014228 -118.320888   \n",
              "40436     Aileen         Other Cities     Culver City  33.985194 -118.393408   \n",
              "40437        Amy         Other Cities        Alhambra  34.070314 -118.134431   \n",
              "\n",
              "             room_type  price  minimum_nights  number_of_reviews last_review  \\\n",
              "40433  Entire home/apt    128               3                  0         NaN   \n",
              "40434  Entire home/apt    180              30                  0         NaN   \n",
              "40435  Entire home/apt    104              30                  0         NaN   \n",
              "40436  Entire home/apt    167               1                  0         NaN   \n",
              "40437     Private room     81               2                  0         NaN   \n",
              "\n",
              "       reviews_per_month  calculated_host_listings_count  availability_365  \\\n",
              "40433                NaN                              24               176   \n",
              "40434                NaN                              56                30   \n",
              "40435                NaN                               3               144   \n",
              "40436                NaN                               6               360   \n",
              "40437                NaN                              44               364   \n",
              "\n",
              "       number_of_reviews_ltm license  \n",
              "40433                      0     NaN  \n",
              "40434                      0     NaN  \n",
              "40435                      0     NaN  \n",
              "40436                      0     NaN  \n",
              "40437                      0     NaN  "
            ],
            "text/html": [
              "\n",
              "  <div id=\"df-8d8c3ac8-4559-4e2e-bd27-ccca9a3bf842\">\n",
              "    <div class=\"colab-df-container\">\n",
              "      <div>\n",
              "<style scoped>\n",
              "    .dataframe tbody tr th:only-of-type {\n",
              "        vertical-align: middle;\n",
              "    }\n",
              "\n",
              "    .dataframe tbody tr th {\n",
              "        vertical-align: top;\n",
              "    }\n",
              "\n",
              "    .dataframe thead th {\n",
              "        text-align: right;\n",
              "    }\n",
              "</style>\n",
              "<table border=\"1\" class=\"dataframe\">\n",
              "  <thead>\n",
              "    <tr style=\"text-align: right;\">\n",
              "      <th></th>\n",
              "      <th>id</th>\n",
              "      <th>name</th>\n",
              "      <th>host_id</th>\n",
              "      <th>host_name</th>\n",
              "      <th>neighbourhood_group</th>\n",
              "      <th>neighbourhood</th>\n",
              "      <th>latitude</th>\n",
              "      <th>longitude</th>\n",
              "      <th>room_type</th>\n",
              "      <th>price</th>\n",
              "      <th>minimum_nights</th>\n",
              "      <th>number_of_reviews</th>\n",
              "      <th>last_review</th>\n",
              "      <th>reviews_per_month</th>\n",
              "      <th>calculated_host_listings_count</th>\n",
              "      <th>availability_365</th>\n",
              "      <th>number_of_reviews_ltm</th>\n",
              "      <th>license</th>\n",
              "    </tr>\n",
              "  </thead>\n",
              "  <tbody>\n",
              "    <tr>\n",
              "      <th>40433</th>\n",
              "      <td>774860592421665035</td>\n",
              "      <td>Cozy Hollywood Studio with Patio</td>\n",
              "      <td>458988009</td>\n",
              "      <td>Hollywood</td>\n",
              "      <td>Other Cities</td>\n",
              "      <td>West Hollywood</td>\n",
              "      <td>34.091006</td>\n",
              "      <td>-118.344620</td>\n",
              "      <td>Entire home/apt</td>\n",
              "      <td>128</td>\n",
              "      <td>3</td>\n",
              "      <td>0</td>\n",
              "      <td>NaN</td>\n",
              "      <td>NaN</td>\n",
              "      <td>24</td>\n",
              "      <td>176</td>\n",
              "      <td>0</td>\n",
              "      <td>NaN</td>\n",
              "    </tr>\n",
              "    <tr>\n",
              "      <th>40434</th>\n",
              "      <td>774864578948159716</td>\n",
              "      <td>Playa Vista  2BR W/ Private Wifi</td>\n",
              "      <td>187543153</td>\n",
              "      <td>Elliot</td>\n",
              "      <td>City of Los Angeles</td>\n",
              "      <td>Playa Vista</td>\n",
              "      <td>33.975508</td>\n",
              "      <td>-118.430657</td>\n",
              "      <td>Entire home/apt</td>\n",
              "      <td>180</td>\n",
              "      <td>30</td>\n",
              "      <td>0</td>\n",
              "      <td>NaN</td>\n",
              "      <td>NaN</td>\n",
              "      <td>56</td>\n",
              "      <td>30</td>\n",
              "      <td>0</td>\n",
              "      <td>NaN</td>\n",
              "    </tr>\n",
              "    <tr>\n",
              "      <th>40435</th>\n",
              "      <td>774866706304798119</td>\n",
              "      <td>Centrally Located LA Retreat</td>\n",
              "      <td>41968542</td>\n",
              "      <td>Mo</td>\n",
              "      <td>City of Los Angeles</td>\n",
              "      <td>Leimert Park</td>\n",
              "      <td>34.014228</td>\n",
              "      <td>-118.320888</td>\n",
              "      <td>Entire home/apt</td>\n",
              "      <td>104</td>\n",
              "      <td>30</td>\n",
              "      <td>0</td>\n",
              "      <td>NaN</td>\n",
              "      <td>NaN</td>\n",
              "      <td>3</td>\n",
              "      <td>144</td>\n",
              "      <td>0</td>\n",
              "      <td>NaN</td>\n",
              "    </tr>\n",
              "    <tr>\n",
              "      <th>40436</th>\n",
              "      <td>774872573559544018</td>\n",
              "      <td>2BR Bungalow in Culver City-Near LAX</td>\n",
              "      <td>462077128</td>\n",
              "      <td>Aileen</td>\n",
              "      <td>Other Cities</td>\n",
              "      <td>Culver City</td>\n",
              "      <td>33.985194</td>\n",
              "      <td>-118.393408</td>\n",
              "      <td>Entire home/apt</td>\n",
              "      <td>167</td>\n",
              "      <td>1</td>\n",
              "      <td>0</td>\n",
              "      <td>NaN</td>\n",
              "      <td>NaN</td>\n",
              "      <td>6</td>\n",
              "      <td>360</td>\n",
              "      <td>0</td>\n",
              "      <td>NaN</td>\n",
              "    </tr>\n",
              "    <tr>\n",
              "      <th>40437</th>\n",
              "      <td>774889783296314664</td>\n",
              "      <td>洛杉矶*熙臻行馆Venetian 独立雅房</td>\n",
              "      <td>183748799</td>\n",
              "      <td>Amy</td>\n",
              "      <td>Other Cities</td>\n",
              "      <td>Alhambra</td>\n",
              "      <td>34.070314</td>\n",
              "      <td>-118.134431</td>\n",
              "      <td>Private room</td>\n",
              "      <td>81</td>\n",
              "      <td>2</td>\n",
              "      <td>0</td>\n",
              "      <td>NaN</td>\n",
              "      <td>NaN</td>\n",
              "      <td>44</td>\n",
              "      <td>364</td>\n",
              "      <td>0</td>\n",
              "      <td>NaN</td>\n",
              "    </tr>\n",
              "  </tbody>\n",
              "</table>\n",
              "</div>\n",
              "      <button class=\"colab-df-convert\" onclick=\"convertToInteractive('df-8d8c3ac8-4559-4e2e-bd27-ccca9a3bf842')\"\n",
              "              title=\"Convert this dataframe to an interactive table.\"\n",
              "              style=\"display:none;\">\n",
              "        \n",
              "  <svg xmlns=\"http://www.w3.org/2000/svg\" height=\"24px\"viewBox=\"0 0 24 24\"\n",
              "       width=\"24px\">\n",
              "    <path d=\"M0 0h24v24H0V0z\" fill=\"none\"/>\n",
              "    <path d=\"M18.56 5.44l.94 2.06.94-2.06 2.06-.94-2.06-.94-.94-2.06-.94 2.06-2.06.94zm-11 1L8.5 8.5l.94-2.06 2.06-.94-2.06-.94L8.5 2.5l-.94 2.06-2.06.94zm10 10l.94 2.06.94-2.06 2.06-.94-2.06-.94-.94-2.06-.94 2.06-2.06.94z\"/><path d=\"M17.41 7.96l-1.37-1.37c-.4-.4-.92-.59-1.43-.59-.52 0-1.04.2-1.43.59L10.3 9.45l-7.72 7.72c-.78.78-.78 2.05 0 2.83L4 21.41c.39.39.9.59 1.41.59.51 0 1.02-.2 1.41-.59l7.78-7.78 2.81-2.81c.8-.78.8-2.07 0-2.86zM5.41 20L4 18.59l7.72-7.72 1.47 1.35L5.41 20z\"/>\n",
              "  </svg>\n",
              "      </button>\n",
              "      \n",
              "  <style>\n",
              "    .colab-df-container {\n",
              "      display:flex;\n",
              "      flex-wrap:wrap;\n",
              "      gap: 12px;\n",
              "    }\n",
              "\n",
              "    .colab-df-convert {\n",
              "      background-color: #E8F0FE;\n",
              "      border: none;\n",
              "      border-radius: 50%;\n",
              "      cursor: pointer;\n",
              "      display: none;\n",
              "      fill: #1967D2;\n",
              "      height: 32px;\n",
              "      padding: 0 0 0 0;\n",
              "      width: 32px;\n",
              "    }\n",
              "\n",
              "    .colab-df-convert:hover {\n",
              "      background-color: #E2EBFA;\n",
              "      box-shadow: 0px 1px 2px rgba(60, 64, 67, 0.3), 0px 1px 3px 1px rgba(60, 64, 67, 0.15);\n",
              "      fill: #174EA6;\n",
              "    }\n",
              "\n",
              "    [theme=dark] .colab-df-convert {\n",
              "      background-color: #3B4455;\n",
              "      fill: #D2E3FC;\n",
              "    }\n",
              "\n",
              "    [theme=dark] .colab-df-convert:hover {\n",
              "      background-color: #434B5C;\n",
              "      box-shadow: 0px 1px 3px 1px rgba(0, 0, 0, 0.15);\n",
              "      filter: drop-shadow(0px 1px 2px rgba(0, 0, 0, 0.3));\n",
              "      fill: #FFFFFF;\n",
              "    }\n",
              "  </style>\n",
              "\n",
              "      <script>\n",
              "        const buttonEl =\n",
              "          document.querySelector('#df-8d8c3ac8-4559-4e2e-bd27-ccca9a3bf842 button.colab-df-convert');\n",
              "        buttonEl.style.display =\n",
              "          google.colab.kernel.accessAllowed ? 'block' : 'none';\n",
              "\n",
              "        async function convertToInteractive(key) {\n",
              "          const element = document.querySelector('#df-8d8c3ac8-4559-4e2e-bd27-ccca9a3bf842');\n",
              "          const dataTable =\n",
              "            await google.colab.kernel.invokeFunction('convertToInteractive',\n",
              "                                                     [key], {});\n",
              "          if (!dataTable) return;\n",
              "\n",
              "          const docLinkHtml = 'Like what you see? Visit the ' +\n",
              "            '<a target=\"_blank\" href=https://colab.research.google.com/notebooks/data_table.ipynb>data table notebook</a>'\n",
              "            + ' to learn more about interactive tables.';\n",
              "          element.innerHTML = '';\n",
              "          dataTable['output_type'] = 'display_data';\n",
              "          await google.colab.output.renderOutput(dataTable, element);\n",
              "          const docLink = document.createElement('div');\n",
              "          docLink.innerHTML = docLinkHtml;\n",
              "          element.appendChild(docLink);\n",
              "        }\n",
              "      </script>\n",
              "    </div>\n",
              "  </div>\n",
              "  "
            ]
          },
          "metadata": {},
          "execution_count": 4
        }
      ]
    },
    {
      "cell_type": "code",
      "source": [
        "# Usando a sintaxe \"df.columns\" para visualizar todas as variáveis do nosso dataset.\n",
        "df.columns"
      ],
      "metadata": {
        "colab": {
          "base_uri": "https://localhost:8080/"
        },
        "id": "5U-hHRDpVOHA",
        "outputId": "3f279616-3df7-4221-a63a-a579e018dddc"
      },
      "execution_count": null,
      "outputs": [
        {
          "output_type": "execute_result",
          "data": {
            "text/plain": [
              "Index(['id', 'name', 'host_id', 'host_name', 'neighbourhood_group',\n",
              "       'neighbourhood', 'latitude', 'longitude', 'room_type', 'price',\n",
              "       'minimum_nights', 'number_of_reviews', 'last_review',\n",
              "       'reviews_per_month', 'calculated_host_listings_count',\n",
              "       'availability_365', 'number_of_reviews_ltm', 'license'],\n",
              "      dtype='object')"
            ]
          },
          "metadata": {},
          "execution_count": 5
        }
      ]
    },
    {
      "cell_type": "code",
      "source": [
        "# Contar o número total de registros\n",
        "num_registros = len(df)\n",
        "print(\"Número total de hospedagens: \", num_registros)"
      ],
      "metadata": {
        "colab": {
          "base_uri": "https://localhost:8080/"
        },
        "id": "RUQZ5YuNWKdL",
        "outputId": "68c71f44-4253-4696-f78c-c2932d0dda1c"
      },
      "execution_count": null,
      "outputs": [
        {
          "output_type": "stream",
          "name": "stdout",
          "text": [
            "Número total de hospedagens:  40438\n"
          ]
        }
      ]
    },
    {
      "cell_type": "code",
      "source": [
        "# Calcular o preço médio das hospedagens\n",
        "preco_medio = df[\"price\"].mean()\n",
        "print(f\"Preço médio das hospedagens: $ {preco_medio:.2f}\")"
      ],
      "metadata": {
        "colab": {
          "base_uri": "https://localhost:8080/"
        },
        "id": "0VGc54tJW4bj",
        "outputId": "c60fe707-eb0b-410f-a0dc-6e6b28f57dc0"
      },
      "execution_count": null,
      "outputs": [
        {
          "output_type": "stream",
          "name": "stdout",
          "text": [
            "Preço médio das hospedagens: $ 279.45\n"
          ]
        }
      ]
    },
    {
      "cell_type": "code",
      "source": [
        "# calcular a Mediana dos preços das hospedagens\n",
        "mediana = df[\"price\"].median()\n",
        "print(f'A mediana do preço das hospedagens: ${mediana}')"
      ],
      "metadata": {
        "colab": {
          "base_uri": "https://localhost:8080/"
        },
        "id": "wcexXjt0X5dg",
        "outputId": "91afabd6-7635-45c9-d13c-a3410bed088c"
      },
      "execution_count": null,
      "outputs": [
        {
          "output_type": "stream",
          "name": "stdout",
          "text": [
            "A mediana do preço das hospedagens: $138.0\n"
          ]
        }
      ]
    },
    {
      "cell_type": "code",
      "source": [
        "# Calcular o Desvio padrão dos preços das hospedagens\n",
        "preco_desvio_padrao = df[\"price\"].std()\n",
        "print(f'Desvio padrão do preço das hospedagens: ${preco_desvio_padrao:.2f}')"
      ],
      "metadata": {
        "colab": {
          "base_uri": "https://localhost:8080/"
        },
        "id": "WSg8vGsCXzxk",
        "outputId": "c9a4f820-b964-4a3e-fd31-c27f11763936"
      },
      "execution_count": null,
      "outputs": [
        {
          "output_type": "stream",
          "name": "stdout",
          "text": [
            "Desvio padrão do preço das hospedagens: $1136.46\n"
          ]
        }
      ]
    },
    {
      "cell_type": "code",
      "source": [
        "# Calcular o preço mínimo e máximo das hospedagens\n",
        "preco_minimo = df[\"price\"].min()\n",
        "preco_maximo = df[\"price\"].max()\n",
        "print(f'Preço mínimo das hospedagens: ${preco_minimo:.2f}')\n",
        "print(f'Preço máximo das hospedagens: ${preco_maximo:.2f}')"
      ],
      "metadata": {
        "colab": {
          "base_uri": "https://localhost:8080/"
        },
        "id": "2Vp2ccXyYyKv",
        "outputId": "61a6243a-9f9a-4b66-8dfd-d7fb5ab5d7c9"
      },
      "execution_count": null,
      "outputs": [
        {
          "output_type": "stream",
          "name": "stdout",
          "text": [
            "Preço mínimo das hospedagens: $0.00\n",
            "Preço máximo das hospedagens: $99999.00\n"
          ]
        }
      ]
    },
    {
      "cell_type": "code",
      "source": [
        "# Número de hospedagens em diferentes tipos de acomodações\n",
        "tipo_acomodacao = df[\"room_type\"].value_counts()\n",
        "print(f'Número de hospedagens em cada tipo de acomodação:\\n{tipo_acomodacao}')"
      ],
      "metadata": {
        "colab": {
          "base_uri": "https://localhost:8080/"
        },
        "id": "wE8ezb1sZ5FT",
        "outputId": "980689a1-bf44-4981-a9f5-9617d1184cc8"
      },
      "execution_count": null,
      "outputs": [
        {
          "output_type": "stream",
          "name": "stdout",
          "text": [
            "Número de hospedagens em cada tipo de acomodação:\n",
            "Entire home/apt    28317\n",
            "Private room       11253\n",
            "Shared room          784\n",
            "Hotel room            84\n",
            "Name: room_type, dtype: int64\n"
          ]
        }
      ]
    },
    {
      "cell_type": "code",
      "source": [
        "# Número de hospedagens em diferentes bairros\n",
        "hospedagens_bairros = df['neighbourhood'].value_counts()\n",
        "print(f'Número de hospedagens em cada bairro:\\n{hospedagens_bairros}')"
      ],
      "metadata": {
        "colab": {
          "base_uri": "https://localhost:8080/"
        },
        "id": "BJgqrxqXamFT",
        "outputId": "ab2fb248-181b-4ea2-9f84-647ce7c8156c"
      },
      "execution_count": null,
      "outputs": [
        {
          "output_type": "stream",
          "name": "stdout",
          "text": [
            "Número de hospedagens em cada bairro:\n",
            "Hollywood         1708\n",
            "Venice            1565\n",
            "Long Beach        1467\n",
            "Sherman Oaks      1439\n",
            "Santa Monica      1233\n",
            "                  ... \n",
            "Cudahy               2\n",
            "Hasley Canyon        2\n",
            "Walnut Park          2\n",
            "Elizabeth Lake       1\n",
            "East Compton         1\n",
            "Name: neighbourhood, Length: 265, dtype: int64\n"
          ]
        }
      ]
    },
    {
      "cell_type": "markdown",
      "metadata": {
        "id": "6-B_qtEaYEd-"
      },
      "source": [
        "### **Q1. Quantos atributos (variáveis) e quantas entradas o nosso conjunto de dados possui? Quais os tipos das variáveis?**"
      ]
    },
    {
      "cell_type": "code",
      "metadata": {
        "id": "TFRK0tniLV-G",
        "colab": {
          "base_uri": "https://localhost:8080/",
          "height": 399
        },
        "outputId": "b9052e31-4e49-459b-8333-f7fa3119e2e2"
      },
      "source": [
        "# identificar o volume de dados do DataFrame\n",
        "# [0] linhas | [1] colunas\n",
        "\n",
        "print(f'N° de entradas: {df.shape[0]:>6}')\n",
        "\n",
        "print(f'N° de variáveis: {df.shape[1]:>5}\\n')\n",
        "\n",
        "# verificar as 5 primeiras entradas do dataset\n",
        "display(df.dtypes)"
      ],
      "execution_count": null,
      "outputs": [
        {
          "output_type": "stream",
          "name": "stdout",
          "text": [
            "N° de entradas:  40438\n",
            "N° de variáveis:    18\n",
            "\n"
          ]
        },
        {
          "output_type": "display_data",
          "data": {
            "text/plain": [
              "id                                  int64\n",
              "name                               object\n",
              "host_id                             int64\n",
              "host_name                          object\n",
              "neighbourhood_group                object\n",
              "neighbourhood                      object\n",
              "latitude                          float64\n",
              "longitude                         float64\n",
              "room_type                          object\n",
              "price                               int64\n",
              "minimum_nights                      int64\n",
              "number_of_reviews                   int64\n",
              "last_review                        object\n",
              "reviews_per_month                 float64\n",
              "calculated_host_listings_count      int64\n",
              "availability_365                    int64\n",
              "number_of_reviews_ltm               int64\n",
              "license                            object\n",
              "dtype: object"
            ]
          },
          "metadata": {}
        }
      ]
    },
    {
      "cell_type": "markdown",
      "metadata": {
        "id": "yz1urSUGW9iE"
      },
      "source": [
        "### **Q2. Qual a porcentagem de valores ausentes no *dataset*?**\n",
        "\n",
        "A qualidade de um *dataset* está diretamente relacionada à quantidade de valores ausentes. É importante entender logo no início se esses valores nulos são significativos comparados ao total de entradas.\n",
        "\n",
        "* É possível ver que a coluna `license` possui 74,6% dos seus valores faltantes. \n",
        "* As variáveis `reviews_per_month` e `last_review` possuem a mesma quantidade de valores nulos, ou seja, com 26,17% dos dados ausentes.\n",
        "* As variáveis `name` e `host_name` têm aproximadamente 0,005% dos valores nulos."
      ]
    },
    {
      "cell_type": "code",
      "metadata": {
        "id": "plk2FjbCXOqP",
        "colab": {
          "base_uri": "https://localhost:8080/"
        },
        "outputId": "6b9885c9-72af-4b08-ff16-e2258523a37d"
      },
      "source": [
        "# listar as variáveis por seus valores ausentes\n",
        "df.isnull().sum() / df.shape[0]"
      ],
      "execution_count": null,
      "outputs": [
        {
          "output_type": "execute_result",
          "data": {
            "text/plain": [
              "id                                0.000000\n",
              "name                              0.000049\n",
              "host_id                           0.000000\n",
              "host_name                         0.000049\n",
              "neighbourhood_group               0.000000\n",
              "neighbourhood                     0.000000\n",
              "latitude                          0.000000\n",
              "longitude                         0.000000\n",
              "room_type                         0.000000\n",
              "price                             0.000000\n",
              "minimum_nights                    0.000000\n",
              "number_of_reviews                 0.000000\n",
              "last_review                       0.261759\n",
              "reviews_per_month                 0.261759\n",
              "calculated_host_listings_count    0.000000\n",
              "availability_365                  0.000000\n",
              "number_of_reviews_ltm             0.000000\n",
              "license                           0.746229\n",
              "dtype: float64"
            ]
          },
          "metadata": {},
          "execution_count": 50
        }
      ]
    },
    {
      "cell_type": "code",
      "source": [
        "# ordenar em ordem decrescente as variáveis por seus valores ausentes\n",
        "(df.isnull().sum() / df.shape[0]).sort_values(ascending=False)"
      ],
      "metadata": {
        "colab": {
          "base_uri": "https://localhost:8080/"
        },
        "id": "P26lLLfj74Al",
        "outputId": "4f3fbf2b-71a6-4464-e5a3-ff6d3b5f452d"
      },
      "execution_count": null,
      "outputs": [
        {
          "output_type": "execute_result",
          "data": {
            "text/plain": [
              "license                           0.746229\n",
              "reviews_per_month                 0.261759\n",
              "last_review                       0.261759\n",
              "host_name                         0.000049\n",
              "name                              0.000049\n",
              "minimum_nights                    0.000000\n",
              "number_of_reviews_ltm             0.000000\n",
              "availability_365                  0.000000\n",
              "calculated_host_listings_count    0.000000\n",
              "number_of_reviews                 0.000000\n",
              "id                                0.000000\n",
              "room_type                         0.000000\n",
              "longitude                         0.000000\n",
              "latitude                          0.000000\n",
              "neighbourhood                     0.000000\n",
              "neighbourhood_group               0.000000\n",
              "host_id                           0.000000\n",
              "price                             0.000000\n",
              "dtype: float64"
            ]
          },
          "metadata": {},
          "execution_count": 51
        }
      ]
    },
    {
      "cell_type": "markdown",
      "metadata": {
        "id": "iHXvvHIxaoNc"
      },
      "source": [
        "### **Q3. Qual o tipo de distribuição das variáveis?** \n",
        "Para identificar a distribuição das variáveis, iremos plotar o histograma."
      ]
    },
    {
      "cell_type": "code",
      "metadata": {
        "id": "q2wWSfeRbmBo",
        "colab": {
          "base_uri": "https://localhost:8080/",
          "height": 716
        },
        "outputId": "62e2d402-2ad9-4bf0-8af4-49d55a0c6b00"
      },
      "source": [
        "# plotar o histograma das variáveis numéricas\n",
        "# bins: parâmetro que o histograma considera para criar as barras por nº de intervalos\n",
        "df.hist(bins=17, figsize=(17, 12));"
      ],
      "execution_count": null,
      "outputs": [
        {
          "output_type": "display_data",
          "data": {
            "text/plain": [
              "<Figure size 1224x864 with 12 Axes>"
            ],
            "image/png": "[encoded data removed]"
          },
          "metadata": {
            "needs_background": "light"
          }
        }
      ]
    },
    {
      "cell_type": "markdown",
      "source": [
        "### **Q4. Há *outliers* presentes?**\n",
        "Pela distribuição do histograma, é possível verificar indícios da presença de *outliers*. Olhe por exemplo as variáveis `price`, `minimum_nights` e `reviews_per_month`.\n",
        "\n",
        "Os valores não seguem uma distruição, e distorcem toda a representação gráfica. Para confirmar, há duas maneiras rápidas que auxiliam a detecção de *outliers*. São elas:\n",
        "\n",
        "* Resumo estatístico por meio do método `describe()`\n",
        "* Plotar `boxplots` para a variável."
      ],
      "metadata": {
        "id": "0hvCrVqVI8W2"
      }
    },
    {
      "cell_type": "code",
      "source": [
        "# ver o resumo estatístico das variáveis numéricas\n",
        "df[['price', 'minimum_nights', 'number_of_reviews', 'availability_365',\n",
        "    'reviews_per_month', 'calculated_host_listings_count']].describe()"
      ],
      "metadata": {
        "colab": {
          "base_uri": "https://localhost:8080/",
          "height": 300
        },
        "id": "FPT-8SGoKS_3",
        "outputId": "2efb285a-8bea-40c3-93b3-b99b60811b12"
      },
      "execution_count": null,
      "outputs": [
        {
          "output_type": "execute_result",
          "data": {
            "text/plain": [
              "              price  minimum_nights  number_of_reviews  availability_365  \\\n",
              "count  40438.000000    40438.000000       40438.000000      40438.000000   \n",
              "mean     279.449602       18.700653          33.562021        198.164969   \n",
              "std     1136.463147       30.973639          72.691163        142.646899   \n",
              "min        0.000000        1.000000           0.000000          0.000000   \n",
              "25%       85.000000        2.000000           0.000000         62.000000   \n",
              "50%      138.000000       30.000000           5.000000        190.000000   \n",
              "75%      235.000000       30.000000          31.000000        348.000000   \n",
              "max    99999.000000     1124.000000        1924.000000        365.000000   \n",
              "\n",
              "       reviews_per_month  calculated_host_listings_count  \n",
              "count       29853.000000                    40438.000000  \n",
              "mean            1.499085                       32.550126  \n",
              "std             1.866809                      114.678176  \n",
              "min             0.010000                        1.000000  \n",
              "25%             0.240000                        1.000000  \n",
              "50%             0.800000                        2.000000  \n",
              "75%             2.250000                       10.000000  \n",
              "max            89.000000                      693.000000  "
            ],
            "text/html": [
              "\n",
              "  <div id=\"df-2cb17b88-f744-464c-a6b9-c65b8f279931\">\n",
              "    <div class=\"colab-df-container\">\n",
              "      <div>\n",
              "<style scoped>\n",
              "    .dataframe tbody tr th:only-of-type {\n",
              "        vertical-align: middle;\n",
              "    }\n",
              "\n",
              "    .dataframe tbody tr th {\n",
              "        vertical-align: top;\n",
              "    }\n",
              "\n",
              "    .dataframe thead th {\n",
              "        text-align: right;\n",
              "    }\n",
              "</style>\n",
              "<table border=\"1\" class=\"dataframe\">\n",
              "  <thead>\n",
              "    <tr style=\"text-align: right;\">\n",
              "      <th></th>\n",
              "      <th>price</th>\n",
              "      <th>minimum_nights</th>\n",
              "      <th>number_of_reviews</th>\n",
              "      <th>availability_365</th>\n",
              "      <th>reviews_per_month</th>\n",
              "      <th>calculated_host_listings_count</th>\n",
              "    </tr>\n",
              "  </thead>\n",
              "  <tbody>\n",
              "    <tr>\n",
              "      <th>count</th>\n",
              "      <td>40438.000000</td>\n",
              "      <td>40438.000000</td>\n",
              "      <td>40438.000000</td>\n",
              "      <td>40438.000000</td>\n",
              "      <td>29853.000000</td>\n",
              "      <td>40438.000000</td>\n",
              "    </tr>\n",
              "    <tr>\n",
              "      <th>mean</th>\n",
              "      <td>279.449602</td>\n",
              "      <td>18.700653</td>\n",
              "      <td>33.562021</td>\n",
              "      <td>198.164969</td>\n",
              "      <td>1.499085</td>\n",
              "      <td>32.550126</td>\n",
              "    </tr>\n",
              "    <tr>\n",
              "      <th>std</th>\n",
              "      <td>1136.463147</td>\n",
              "      <td>30.973639</td>\n",
              "      <td>72.691163</td>\n",
              "      <td>142.646899</td>\n",
              "      <td>1.866809</td>\n",
              "      <td>114.678176</td>\n",
              "    </tr>\n",
              "    <tr>\n",
              "      <th>min</th>\n",
              "      <td>0.000000</td>\n",
              "      <td>1.000000</td>\n",
              "      <td>0.000000</td>\n",
              "      <td>0.000000</td>\n",
              "      <td>0.010000</td>\n",
              "      <td>1.000000</td>\n",
              "    </tr>\n",
              "    <tr>\n",
              "      <th>25%</th>\n",
              "      <td>85.000000</td>\n",
              "      <td>2.000000</td>\n",
              "      <td>0.000000</td>\n",
              "      <td>62.000000</td>\n",
              "      <td>0.240000</td>\n",
              "      <td>1.000000</td>\n",
              "    </tr>\n",
              "    <tr>\n",
              "      <th>50%</th>\n",
              "      <td>138.000000</td>\n",
              "      <td>30.000000</td>\n",
              "      <td>5.000000</td>\n",
              "      <td>190.000000</td>\n",
              "      <td>0.800000</td>\n",
              "      <td>2.000000</td>\n",
              "    </tr>\n",
              "    <tr>\n",
              "      <th>75%</th>\n",
              "      <td>235.000000</td>\n",
              "      <td>30.000000</td>\n",
              "      <td>31.000000</td>\n",
              "      <td>348.000000</td>\n",
              "      <td>2.250000</td>\n",
              "      <td>10.000000</td>\n",
              "    </tr>\n",
              "    <tr>\n",
              "      <th>max</th>\n",
              "      <td>99999.000000</td>\n",
              "      <td>1124.000000</td>\n",
              "      <td>1924.000000</td>\n",
              "      <td>365.000000</td>\n",
              "      <td>89.000000</td>\n",
              "      <td>693.000000</td>\n",
              "    </tr>\n",
              "  </tbody>\n",
              "</table>\n",
              "</div>\n",
              "      <button class=\"colab-df-convert\" onclick=\"convertToInteractive('df-2cb17b88-f744-464c-a6b9-c65b8f279931')\"\n",
              "              title=\"Convert this dataframe to an interactive table.\"\n",
              "              style=\"display:none;\">\n",
              "        \n",
              "  <svg xmlns=\"http://www.w3.org/2000/svg\" height=\"24px\"viewBox=\"0 0 24 24\"\n",
              "       width=\"24px\">\n",
              "    <path d=\"M0 0h24v24H0V0z\" fill=\"none\"/>\n",
              "    <path d=\"M18.56 5.44l.94 2.06.94-2.06 2.06-.94-2.06-.94-.94-2.06-.94 2.06-2.06.94zm-11 1L8.5 8.5l.94-2.06 2.06-.94-2.06-.94L8.5 2.5l-.94 2.06-2.06.94zm10 10l.94 2.06.94-2.06 2.06-.94-2.06-.94-.94-2.06-.94 2.06-2.06.94z\"/><path d=\"M17.41 7.96l-1.37-1.37c-.4-.4-.92-.59-1.43-.59-.52 0-1.04.2-1.43.59L10.3 9.45l-7.72 7.72c-.78.78-.78 2.05 0 2.83L4 21.41c.39.39.9.59 1.41.59.51 0 1.02-.2 1.41-.59l7.78-7.78 2.81-2.81c.8-.78.8-2.07 0-2.86zM5.41 20L4 18.59l7.72-7.72 1.47 1.35L5.41 20z\"/>\n",
              "  </svg>\n",
              "      </button>\n",
              "      \n",
              "  <style>\n",
              "    .colab-df-container {\n",
              "      display:flex;\n",
              "      flex-wrap:wrap;\n",
              "      gap: 12px;\n",
              "    }\n",
              "\n",
              "    .colab-df-convert {\n",
              "      background-color: #E8F0FE;\n",
              "      border: none;\n",
              "      border-radius: 50%;\n",
              "      cursor: pointer;\n",
              "      display: none;\n",
              "      fill: #1967D2;\n",
              "      height: 32px;\n",
              "      padding: 0 0 0 0;\n",
              "      width: 32px;\n",
              "    }\n",
              "\n",
              "    .colab-df-convert:hover {\n",
              "      background-color: #E2EBFA;\n",
              "      box-shadow: 0px 1px 2px rgba(60, 64, 67, 0.3), 0px 1px 3px 1px rgba(60, 64, 67, 0.15);\n",
              "      fill: #174EA6;\n",
              "    }\n",
              "\n",
              "    [theme=dark] .colab-df-convert {\n",
              "      background-color: #3B4455;\n",
              "      fill: #D2E3FC;\n",
              "    }\n",
              "\n",
              "    [theme=dark] .colab-df-convert:hover {\n",
              "      background-color: #434B5C;\n",
              "      box-shadow: 0px 1px 3px 1px rgba(0, 0, 0, 0.15);\n",
              "      filter: drop-shadow(0px 1px 2px rgba(0, 0, 0, 0.3));\n",
              "      fill: #FFFFFF;\n",
              "    }\n",
              "  </style>\n",
              "\n",
              "      <script>\n",
              "        const buttonEl =\n",
              "          document.querySelector('#df-2cb17b88-f744-464c-a6b9-c65b8f279931 button.colab-df-convert');\n",
              "        buttonEl.style.display =\n",
              "          google.colab.kernel.accessAllowed ? 'block' : 'none';\n",
              "\n",
              "        async function convertToInteractive(key) {\n",
              "          const element = document.querySelector('#df-2cb17b88-f744-464c-a6b9-c65b8f279931');\n",
              "          const dataTable =\n",
              "            await google.colab.kernel.invokeFunction('convertToInteractive',\n",
              "                                                     [key], {});\n",
              "          if (!dataTable) return;\n",
              "\n",
              "          const docLinkHtml = 'Like what you see? Visit the ' +\n",
              "            '<a target=\"_blank\" href=https://colab.research.google.com/notebooks/data_table.ipynb>data table notebook</a>'\n",
              "            + ' to learn more about interactive tables.';\n",
              "          element.innerHTML = '';\n",
              "          dataTable['output_type'] = 'display_data';\n",
              "          await google.colab.output.renderOutput(dataTable, element);\n",
              "          const docLink = document.createElement('div');\n",
              "          docLink.innerHTML = docLinkHtml;\n",
              "          element.appendChild(docLink);\n",
              "        }\n",
              "      </script>\n",
              "    </div>\n",
              "  </div>\n",
              "  "
            ]
          },
          "metadata": {},
          "execution_count": 53
        }
      ]
    },
    {
      "cell_type": "markdown",
      "source": [
        "Com base nos valores máximos e mínimos de cada coluna no resumo estatístico acima, podemos confirmar possíveis outliers no conjunto de dados:\n",
        "\n",
        "* **Variável price** <p align='justify'>Tem uma média de 279,45 dólares por noite, porém a distribuição de preços é bastante ampla, com um desvio padrão de 1136,46 dólares e um preço máximo de 99999 dólares, indicando que há grande variação nos preços em Los Angeles e que podem representar propriedades de luxo ou erro de registro.</p><br>\n",
        "\n",
        "* **Variável minimum_nights**<p align=\"justify\"> A maioria das propriedades requerem um mínimo de 4 noites de estadia. O valor mínimo é de 1 noite e o máximo é de 1124 noites. Já o terceiro quartil é de apenas 30 noites, o que evidencia ser um resultado atípico.</p><br>\n",
        "\n",
        "* **Variável number_of_reviews**<p align=\"justify\">O valor máximo é de 1924 avaliações, enquanto o valor médio é de 33 avaliações e o mínimo é de 0. Isso indica a presença de possíveis outliers com valores muito acima da média ou erros de registro.</p><br>\n",
        "\n",
        "* **Variável availability_365**<p align=\"justify\">O valor máximo é de 365 dias e o valor mínimo é de 0 dias, enquanto que o valor médio é de 198 dias. Isso indica também a presença de outliers na amostra com valores muito acima da média e que podem representar propriedades que ficam disponíveis durante todo o ano ou apenas erros de registro.</p><br> \n",
        "\n",
        "* **Variável reviews_per_month**<p align=\"justify\">O valor máximo é de 89 avaliações por mês, enquanto o valor médio é de 1,49 avaliações por mês e o mínimo de 0,01 avaliações por mês. Isso também indica a presença de outliers na amostra com possíveis erros de registro.</p><br>\n",
        "\n",
        "* **Variável calculated_host_listings_count**<p align=\"justify\">O valor máximo é de 693 propriedades listadas, enquanto o valor médio é de 32 propriedades e o valor mínimo é de 1 propriedade, indicando também uma possível presença de outliers com valores muito acima da média, que podem representar empresas com muitas propriedades listadas com erro de registro.</p><br>"
      ],
      "metadata": {
        "id": "uwxZvQbENf_x"
      }
    },
    {
      "cell_type": "markdown",
      "source": [
        "#### Boxplot para price"
      ],
      "metadata": {
        "id": "pUsJXr9jMHmJ"
      }
    },
    {
      "cell_type": "code",
      "source": [
        "# price\n",
        "df.price.plot(kind=\"box\", vert=False, figsize=(15, 3))\n",
        "plt.show()\n",
        "\n",
        "# ver quantidade de valores acima de 950 para price\n",
        "print(f'\\nPrice: valores acima de $950')\n",
        "print('Entradas:', (len(df[df.price > 950])))\n",
        "print(\"{:.4f}%\".format(len(df[df.price > 950]) / df.shape[0]))\n",
        "# ou print(f'{len(df[df.price > 950]) / df.shape[0]*100:.4f}','%')\n"
      ],
      "metadata": {
        "colab": {
          "base_uri": "https://localhost:8080/",
          "height": 280
        },
        "id": "BMIKsWv5TTS5",
        "outputId": "d8f81851-a651-42b4-ef12-348c9405ed5a"
      },
      "execution_count": null,
      "outputs": [
        {
          "output_type": "display_data",
          "data": {
            "text/plain": [
              "<Figure size 1080x216 with 1 Axes>"
            ],
            "image/png": "[encoded data removed]"
          },
          "metadata": {
            "needs_background": "light"
          }
        },
        {
          "output_type": "stream",
          "name": "stdout",
          "text": [
            "\n",
            "Price: valores acima de $950\n",
            "Entradas: 1584\n",
            "0.0392%\n"
          ]
        }
      ]
    },
    {
      "cell_type": "markdown",
      "source": [
        "#### Boxplot para minimum_nights"
      ],
      "metadata": {
        "id": "V811VDWKgVGa"
      }
    },
    {
      "cell_type": "code",
      "source": [
        "# minimum_nights\n",
        "df.minimum_nights.plot(kind=\"box\", vert=False, figsize=(15, 3))\n",
        "plt.show()\n",
        "\n",
        "# ver quantidade de valores acima de 15 dias para minimum_nights\n",
        "print(f'\\nValores acima de 15 dias')\n",
        "print('Entradas:', (len(df[df.minimum_nights > 15])))\n",
        "print(\"{:.4f}%\".format(len(df[df.minimum_nights > 15]) / df.shape[0]))\n",
        "# ou print(f'{len(df[df.minimum_nights > 15]) / df.shape[0]*100:.4f}','%')"
      ],
      "metadata": {
        "colab": {
          "base_uri": "https://localhost:8080/",
          "height": 280
        },
        "id": "0oHfP77bhE8K",
        "outputId": "3ef6088f-12e1-4881-d508-c001f6ab4afa"
      },
      "execution_count": null,
      "outputs": [
        {
          "output_type": "display_data",
          "data": {
            "text/plain": [
              "<Figure size 1080x216 with 1 Axes>"
            ],
            "image/png": "[encoded data removed]"
          },
          "metadata": {
            "needs_background": "light"
          }
        },
        {
          "output_type": "stream",
          "name": "stdout",
          "text": [
            "\n",
            "Valores acima de 15 dias\n",
            "Entradas: 20671\n",
            "0.5112%\n"
          ]
        }
      ]
    },
    {
      "cell_type": "markdown",
      "source": [
        "#### Boxplot para reviews_per_month"
      ],
      "metadata": {
        "id": "YkNirM3PgqRi"
      }
    },
    {
      "cell_type": "code",
      "source": [
        "# reviews_per_month\n",
        "df.reviews_per_month.plot(kind=\"box\", vert=False, figsize=(15, 3))\n",
        "plt.show()\n",
        "\n",
        "# ver quantidade de valores acima de 5 avaliações para reviews_per_month\n",
        "print(f'\\nValores acima de 5 avaliações')\n",
        "print('Entradas:', (len(df[df.reviews_per_month > 5])))\n",
        "print(\"{:.4f}%\".format(len(df[df.reviews_per_month > 5]) / df.shape[0]))\n",
        "# ou print(f'{len(df[df.reviews_per_month > 5]) / df.shape[0]*100:.4f}','%')"
      ],
      "metadata": {
        "colab": {
          "base_uri": "https://localhost:8080/",
          "height": 280
        },
        "id": "0n42gkTfvUBN",
        "outputId": "253e6429-480e-430b-dfb2-992ee880a07e"
      },
      "execution_count": null,
      "outputs": [
        {
          "output_type": "display_data",
          "data": {
            "text/plain": [
              "<Figure size 1080x216 with 1 Axes>"
            ],
            "image/png": "[encoded data removed]"
          },
          "metadata": {
            "needs_background": "light"
          }
        },
        {
          "output_type": "stream",
          "name": "stdout",
          "text": [
            "\n",
            "Valores acima de 5 avaliações\n",
            "Entradas: 1460\n",
            "0.0361%\n"
          ]
        }
      ]
    },
    {
      "cell_type": "markdown",
      "source": [
        "#### Histogramas sem *outliers*\n",
        "\n",
        "Já que identificamos *outliers* nas variáveis `price` e `minimum_nights`, vamos agora limpar o *DataFrame* delas e plotar novamente o histograma."
      ],
      "metadata": {
        "id": "JFlVYkw-eSX1"
      }
    },
    {
      "cell_type": "code",
      "source": [
        "# remover os *outliers* em um novo DataFrame\n",
        "df_clean = df.copy()\n",
        "df_clean.drop(df_clean[df_clean.price > 950].index, axis=0, inplace=True)\n",
        "df_clean.drop(df_clean[df_clean.minimum_nights > 15].index, axis=0, inplace=True)\n",
        "df_clean.drop(df_clean[df_clean.reviews_per_month > 5].index, axis=0, inplace=True)\n",
        "\n",
        "# plotar o histograma para as variáveis numéricas\n",
        "df_clean.hist(bins=17, figsize=(17,12));\n"
      ],
      "metadata": {
        "colab": {
          "base_uri": "https://localhost:8080/",
          "height": 716
        },
        "id": "BtAmIVb7egB6",
        "outputId": "0e295d3a-b77b-415a-c291-e49ec5387e0b"
      },
      "execution_count": null,
      "outputs": [
        {
          "output_type": "display_data",
          "data": {
            "text/plain": [
              "<Figure size 1224x864 with 12 Axes>"
            ],
            "image/png": "[encoded data removed]"
          },
          "metadata": {
            "needs_background": "light"
          }
        }
      ]
    },
    {
      "cell_type": "markdown",
      "metadata": {
        "id": "IXn2oIo5qx-w"
      },
      "source": [
        "### **Q5. Qual a correlação existente entre as variáveis**\n",
        "\n",
        "Correlação significa que existe uma relação entre duas coisas. No nosso contexto, estamos buscando relação ou semelhança entre duas variáveis.\n",
        "\n",
        "Essa relação pode ser medida, e é função do coeficiente de correlação estabelecer qual a intensidade dela, através da sua força e direção.\n",
        "\n",
        "Para identificar as correlações existentes entre as variáveis de interesse, vou:\n",
        "\n",
        "* Criar uma matriz de correlação\n",
        "* Gerar um *heatmap* a partir dessa matriz, usando a biblioteca `seaborn`"
      ]
    },
    {
      "cell_type": "code",
      "metadata": {
        "id": "x2ayzBajqxyd",
        "colab": {
          "base_uri": "https://localhost:8080/",
          "height": 237
        },
        "outputId": "6e9f95ad-7601-4492-954b-b315a8de3cd6"
      },
      "source": [
        "# criar uma matriz de correlação\n",
        "corr = df_clean[['price', 'minimum_nights', 'number_of_reviews', 'availability_365',\n",
        "    'reviews_per_month', 'calculated_host_listings_count']].corr()\n",
        "\n",
        "# mostrar a matriz de correlação\n",
        "display(corr)"
      ],
      "execution_count": null,
      "outputs": [
        {
          "output_type": "display_data",
          "data": {
            "text/plain": [
              "                                   price  minimum_nights  number_of_reviews  \\\n",
              "price                           1.000000        0.075073          -0.053410   \n",
              "minimum_nights                  0.075073        1.000000          -0.046888   \n",
              "number_of_reviews              -0.053410       -0.046888           1.000000   \n",
              "availability_365                0.074659       -0.068546          -0.026586   \n",
              "reviews_per_month              -0.030082       -0.239983           0.460385   \n",
              "calculated_host_listings_count  0.062058       -0.067542          -0.153113   \n",
              "\n",
              "                                availability_365  reviews_per_month  \\\n",
              "price                                   0.074659          -0.030082   \n",
              "minimum_nights                         -0.068546          -0.239983   \n",
              "number_of_reviews                      -0.026586           0.460385   \n",
              "availability_365                        1.000000           0.130909   \n",
              "reviews_per_month                       0.130909           1.000000   \n",
              "calculated_host_listings_count          0.215911          -0.067415   \n",
              "\n",
              "                                calculated_host_listings_count  \n",
              "price                                                 0.062058  \n",
              "minimum_nights                                       -0.067542  \n",
              "number_of_reviews                                    -0.153113  \n",
              "availability_365                                      0.215911  \n",
              "reviews_per_month                                    -0.067415  \n",
              "calculated_host_listings_count                        1.000000  "
            ],
            "text/html": [
              "\n",
              "  <div id=\"df-ff23e128-5941-4b40-ab24-b9f4fb2d5d77\">\n",
              "    <div class=\"colab-df-container\">\n",
              "      <div>\n",
              "<style scoped>\n",
              "    .dataframe tbody tr th:only-of-type {\n",
              "        vertical-align: middle;\n",
              "    }\n",
              "\n",
              "    .dataframe tbody tr th {\n",
              "        vertical-align: top;\n",
              "    }\n",
              "\n",
              "    .dataframe thead th {\n",
              "        text-align: right;\n",
              "    }\n",
              "</style>\n",
              "<table border=\"1\" class=\"dataframe\">\n",
              "  <thead>\n",
              "    <tr style=\"text-align: right;\">\n",
              "      <th></th>\n",
              "      <th>price</th>\n",
              "      <th>minimum_nights</th>\n",
              "      <th>number_of_reviews</th>\n",
              "      <th>availability_365</th>\n",
              "      <th>reviews_per_month</th>\n",
              "      <th>calculated_host_listings_count</th>\n",
              "    </tr>\n",
              "  </thead>\n",
              "  <tbody>\n",
              "    <tr>\n",
              "      <th>price</th>\n",
              "      <td>1.000000</td>\n",
              "      <td>0.075073</td>\n",
              "      <td>-0.053410</td>\n",
              "      <td>0.074659</td>\n",
              "      <td>-0.030082</td>\n",
              "      <td>0.062058</td>\n",
              "    </tr>\n",
              "    <tr>\n",
              "      <th>minimum_nights</th>\n",
              "      <td>0.075073</td>\n",
              "      <td>1.000000</td>\n",
              "      <td>-0.046888</td>\n",
              "      <td>-0.068546</td>\n",
              "      <td>-0.239983</td>\n",
              "      <td>-0.067542</td>\n",
              "    </tr>\n",
              "    <tr>\n",
              "      <th>number_of_reviews</th>\n",
              "      <td>-0.053410</td>\n",
              "      <td>-0.046888</td>\n",
              "      <td>1.000000</td>\n",
              "      <td>-0.026586</td>\n",
              "      <td>0.460385</td>\n",
              "      <td>-0.153113</td>\n",
              "    </tr>\n",
              "    <tr>\n",
              "      <th>availability_365</th>\n",
              "      <td>0.074659</td>\n",
              "      <td>-0.068546</td>\n",
              "      <td>-0.026586</td>\n",
              "      <td>1.000000</td>\n",
              "      <td>0.130909</td>\n",
              "      <td>0.215911</td>\n",
              "    </tr>\n",
              "    <tr>\n",
              "      <th>reviews_per_month</th>\n",
              "      <td>-0.030082</td>\n",
              "      <td>-0.239983</td>\n",
              "      <td>0.460385</td>\n",
              "      <td>0.130909</td>\n",
              "      <td>1.000000</td>\n",
              "      <td>-0.067415</td>\n",
              "    </tr>\n",
              "    <tr>\n",
              "      <th>calculated_host_listings_count</th>\n",
              "      <td>0.062058</td>\n",
              "      <td>-0.067542</td>\n",
              "      <td>-0.153113</td>\n",
              "      <td>0.215911</td>\n",
              "      <td>-0.067415</td>\n",
              "      <td>1.000000</td>\n",
              "    </tr>\n",
              "  </tbody>\n",
              "</table>\n",
              "</div>\n",
              "      <button class=\"colab-df-convert\" onclick=\"convertToInteractive('df-ff23e128-5941-4b40-ab24-b9f4fb2d5d77')\"\n",
              "              title=\"Convert this dataframe to an interactive table.\"\n",
              "              style=\"display:none;\">\n",
              "        \n",
              "  <svg xmlns=\"http://www.w3.org/2000/svg\" height=\"24px\"viewBox=\"0 0 24 24\"\n",
              "       width=\"24px\">\n",
              "    <path d=\"M0 0h24v24H0V0z\" fill=\"none\"/>\n",
              "    <path d=\"M18.56 5.44l.94 2.06.94-2.06 2.06-.94-2.06-.94-.94-2.06-.94 2.06-2.06.94zm-11 1L8.5 8.5l.94-2.06 2.06-.94-2.06-.94L8.5 2.5l-.94 2.06-2.06.94zm10 10l.94 2.06.94-2.06 2.06-.94-2.06-.94-.94-2.06-.94 2.06-2.06.94z\"/><path d=\"M17.41 7.96l-1.37-1.37c-.4-.4-.92-.59-1.43-.59-.52 0-1.04.2-1.43.59L10.3 9.45l-7.72 7.72c-.78.78-.78 2.05 0 2.83L4 21.41c.39.39.9.59 1.41.59.51 0 1.02-.2 1.41-.59l7.78-7.78 2.81-2.81c.8-.78.8-2.07 0-2.86zM5.41 20L4 18.59l7.72-7.72 1.47 1.35L5.41 20z\"/>\n",
              "  </svg>\n",
              "      </button>\n",
              "      \n",
              "  <style>\n",
              "    .colab-df-container {\n",
              "      display:flex;\n",
              "      flex-wrap:wrap;\n",
              "      gap: 12px;\n",
              "    }\n",
              "\n",
              "    .colab-df-convert {\n",
              "      background-color: #E8F0FE;\n",
              "      border: none;\n",
              "      border-radius: 50%;\n",
              "      cursor: pointer;\n",
              "      display: none;\n",
              "      fill: #1967D2;\n",
              "      height: 32px;\n",
              "      padding: 0 0 0 0;\n",
              "      width: 32px;\n",
              "    }\n",
              "\n",
              "    .colab-df-convert:hover {\n",
              "      background-color: #E2EBFA;\n",
              "      box-shadow: 0px 1px 2px rgba(60, 64, 67, 0.3), 0px 1px 3px 1px rgba(60, 64, 67, 0.15);\n",
              "      fill: #174EA6;\n",
              "    }\n",
              "\n",
              "    [theme=dark] .colab-df-convert {\n",
              "      background-color: #3B4455;\n",
              "      fill: #D2E3FC;\n",
              "    }\n",
              "\n",
              "    [theme=dark] .colab-df-convert:hover {\n",
              "      background-color: #434B5C;\n",
              "      box-shadow: 0px 1px 3px 1px rgba(0, 0, 0, 0.15);\n",
              "      filter: drop-shadow(0px 1px 2px rgba(0, 0, 0, 0.3));\n",
              "      fill: #FFFFFF;\n",
              "    }\n",
              "  </style>\n",
              "\n",
              "      <script>\n",
              "        const buttonEl =\n",
              "          document.querySelector('#df-ff23e128-5941-4b40-ab24-b9f4fb2d5d77 button.colab-df-convert');\n",
              "        buttonEl.style.display =\n",
              "          google.colab.kernel.accessAllowed ? 'block' : 'none';\n",
              "\n",
              "        async function convertToInteractive(key) {\n",
              "          const element = document.querySelector('#df-ff23e128-5941-4b40-ab24-b9f4fb2d5d77');\n",
              "          const dataTable =\n",
              "            await google.colab.kernel.invokeFunction('convertToInteractive',\n",
              "                                                     [key], {});\n",
              "          if (!dataTable) return;\n",
              "\n",
              "          const docLinkHtml = 'Like what you see? Visit the ' +\n",
              "            '<a target=\"_blank\" href=https://colab.research.google.com/notebooks/data_table.ipynb>data table notebook</a>'\n",
              "            + ' to learn more about interactive tables.';\n",
              "          element.innerHTML = '';\n",
              "          dataTable['output_type'] = 'display_data';\n",
              "          await google.colab.output.renderOutput(dataTable, element);\n",
              "          const docLink = document.createElement('div');\n",
              "          docLink.innerHTML = docLinkHtml;\n",
              "          element.appendChild(docLink);\n",
              "        }\n",
              "      </script>\n",
              "    </div>\n",
              "  </div>\n",
              "  "
            ]
          },
          "metadata": {}
        }
      ]
    },
    {
      "cell_type": "code",
      "metadata": {
        "id": "91UujDr6ueqE",
        "colab": {
          "base_uri": "https://localhost:8080/",
          "height": 411
        },
        "outputId": "1c757cea-db90-4562-cf4e-c3b4d01ad56e"
      },
      "source": [
        "# plotar um heatmap a partir das correlações\n",
        "sns.heatmap(corr, cmap='RdBu', fmt='.2f', square=True, linecolor='white', annot=True);"
      ],
      "execution_count": null,
      "outputs": [
        {
          "output_type": "display_data",
          "data": {
            "text/plain": [
              "<Figure size 432x288 with 2 Axes>"
            ],
            "image/png": "[encoded data removed]"
          },
          "metadata": {
            "needs_background": "light"
          }
        }
      ]
    },
    {
      "cell_type": "markdown",
      "metadata": {
        "id": "7b6RMWpuHKN-"
      },
      "source": [
        "### **Q6. Qual o tipo de imóvel mais alugado no Airbnb?**\n",
        "A coluna da variável `room_type` indica o tipo de locação que está anunciada no Airbnb. Se você já alugou no site, sabe que existem opções de apartamentos,casas inteiras, apenas o aluguel de um quarto ou mesmo dividir o quarto com outras pessoas.\n",
        "\n",
        "Vamos contar a quantidade de ocorrências de cada tipo de aluguel, usando o método `value_counts()`."
      ]
    },
    {
      "cell_type": "code",
      "metadata": {
        "id": "ueLPNWvPHgfB",
        "colab": {
          "base_uri": "https://localhost:8080/"
        },
        "outputId": "f54a19b0-0bcd-493f-d622-2a79de9281e3"
      },
      "source": [
        "# mostrar a quantidade de cada tipo de imóvel disponível\n",
        "df_clean.room_type.value_counts()"
      ],
      "execution_count": null,
      "outputs": [
        {
          "output_type": "execute_result",
          "data": {
            "text/plain": [
              "Entire home/apt    11947\n",
              "Private room        5285\n",
              "Shared room          225\n",
              "Hotel room            65\n",
              "Name: room_type, dtype: int64"
            ]
          },
          "metadata": {},
          "execution_count": 99
        }
      ]
    },
    {
      "cell_type": "code",
      "metadata": {
        "id": "EvwoO-XAHhIm",
        "colab": {
          "base_uri": "https://localhost:8080/"
        },
        "outputId": "1c584763-94f6-4dc5-f905-853bc21f0963"
      },
      "source": [
        "# mostrar a porcentagem de cada tipo de imóvel disponível\n",
        "df_clean.room_type.value_counts() / df.shape[0]"
      ],
      "execution_count": null,
      "outputs": [
        {
          "output_type": "execute_result",
          "data": {
            "text/plain": [
              "Entire home/apt    0.295440\n",
              "Private room       0.130694\n",
              "Shared room        0.005564\n",
              "Hotel room         0.001607\n",
              "Name: room_type, dtype: float64"
            ]
          },
          "metadata": {},
          "execution_count": 100
        }
      ]
    },
    {
      "cell_type": "markdown",
      "metadata": {
        "id": "MFa5NbnLJMcd"
      },
      "source": [
        "### **Q7. Qual a localidade mais cara de Los Angeles?**\n",
        "Uma maneira de se verificar uma variável em função da outra é usando `groupby()`. No caso, queremos comparar os bairros (*neighbourhoods*) a partir do preço de locação."
      ]
    },
    {
      "cell_type": "code",
      "metadata": {
        "id": "MD_xa143JZpi",
        "colab": {
          "base_uri": "https://localhost:8080/"
        },
        "outputId": "c7c1da34-2282-4360-bf46-98c37c07a3af"
      },
      "source": [
        "# ver preços por bairros, na média\n",
        "df_clean.groupby(['neighbourhood']).price.mean().sort_values(ascending=False)[:10] "
      ],
      "execution_count": null,
      "outputs": [
        {
          "output_type": "execute_result",
          "data": {
            "text/plain": [
              "neighbourhood\n",
              "Malibu                                   538.422222\n",
              "Griffith Park                            535.000000\n",
              "Beverly Crest                            474.347826\n",
              "Lake View Terrace                        447.000000\n",
              "Hollywood Hills West                     442.459259\n",
              "Beverlywood                              425.000000\n",
              "Rancho Palos Verdes                      418.043478\n",
              "Unincorporated Santa Monica Mountains    416.720339\n",
              "Brentwood                                411.518519\n",
              "Pacific Palisades                        411.045455\n",
              "Name: price, dtype: float64"
            ]
          },
          "metadata": {},
          "execution_count": 101
        }
      ]
    },
    {
      "cell_type": "markdown",
      "source": [
        "Acima, vemos que bairros como Malibu, Griffith Parke, Beverly Crest estão com média de preço superior a de lugares como Beverly Hills, Santa Monica e Hollywood.\n",
        "\n",
        "Uma pessoa que não conhecesse Los Angeles poderia apresentar esses resultados sem se questionar. Só para dar um único exemplo de como uma amostra pode ser não-representativa, veja quantas entradas há para Griffith Park e Lake View Terrace."
      ],
      "metadata": {
        "id": "y78EdWws3phl"
      }
    },
    {
      "cell_type": "code",
      "metadata": {
        "id": "UxVJqJ_3W59I",
        "colab": {
          "base_uri": "https://localhost:8080/",
          "height": 467
        },
        "outputId": "e28c10eb-c702-43c9-a8ed-a4bf9d1a8011"
      },
      "source": [
        "# plotar os imóveis pela latitude-longitude\n",
        "print(df_clean[df_clean.neighbourhood == 'Griffith Park'].shape)\n",
        "\n",
        "# ver as 3 entradas de Griffith Park\n",
        "df_clean[df_clean.neighbourhood == 'Griffith Park']"
      ],
      "execution_count": null,
      "outputs": [
        {
          "output_type": "stream",
          "name": "stdout",
          "text": [
            "(3, 18)\n"
          ]
        },
        {
          "output_type": "execute_result",
          "data": {
            "text/plain": [
              "             id                                           name   host_id  \\\n",
              "2601    6361729            Exquisite Los Feliz Mid-Century gem  32700396   \n",
              "10160  25010546            Los Feliz, Spanish Hillside Retreat   1457902   \n",
              "21335  48785476  Boho Chic Studio- Pet Friendly + Free Parking  60164060   \n",
              "\n",
              "      host_name  neighbourhood_group  neighbourhood  latitude  longitude  \\\n",
              "2601        Ron  City of Los Angeles  Griffith Park  34.11825 -118.28948   \n",
              "10160      Adam  City of Los Angeles  Griffith Park  34.11850 -118.28701   \n",
              "21335      Blue  City of Los Angeles  Griffith Park  34.15456 -118.32231   \n",
              "\n",
              "             room_type  price  minimum_nights  number_of_reviews last_review  \\\n",
              "2601   Entire home/apt    950               7                  3  2017-07-24   \n",
              "10160  Entire home/apt    480               5                  6  2022-07-20   \n",
              "21335  Entire home/apt    175               3                 71  2022-11-26   \n",
              "\n",
              "       reviews_per_month  calculated_host_listings_count  availability_365  \\\n",
              "2601                0.03                               1                 0   \n",
              "10160               0.11                               1                 7   \n",
              "21335               4.32                               1               157   \n",
              "\n",
              "       number_of_reviews_ltm       license  \n",
              "2601                       0  HSR20-000665  \n",
              "10160                      2  HSR22-000082  \n",
              "21335                     56           NaN  "
            ],
            "text/html": [
              "\n",
              "  <div id=\"df-60da935d-7ce2-40cb-b9d5-b1d1f19a5d7d\">\n",
              "    <div class=\"colab-df-container\">\n",
              "      <div>\n",
              "<style scoped>\n",
              "    .dataframe tbody tr th:only-of-type {\n",
              "        vertical-align: middle;\n",
              "    }\n",
              "\n",
              "    .dataframe tbody tr th {\n",
              "        vertical-align: top;\n",
              "    }\n",
              "\n",
              "    .dataframe thead th {\n",
              "        text-align: right;\n",
              "    }\n",
              "</style>\n",
              "<table border=\"1\" class=\"dataframe\">\n",
              "  <thead>\n",
              "    <tr style=\"text-align: right;\">\n",
              "      <th></th>\n",
              "      <th>id</th>\n",
              "      <th>name</th>\n",
              "      <th>host_id</th>\n",
              "      <th>host_name</th>\n",
              "      <th>neighbourhood_group</th>\n",
              "      <th>neighbourhood</th>\n",
              "      <th>latitude</th>\n",
              "      <th>longitude</th>\n",
              "      <th>room_type</th>\n",
              "      <th>price</th>\n",
              "      <th>minimum_nights</th>\n",
              "      <th>number_of_reviews</th>\n",
              "      <th>last_review</th>\n",
              "      <th>reviews_per_month</th>\n",
              "      <th>calculated_host_listings_count</th>\n",
              "      <th>availability_365</th>\n",
              "      <th>number_of_reviews_ltm</th>\n",
              "      <th>license</th>\n",
              "    </tr>\n",
              "  </thead>\n",
              "  <tbody>\n",
              "    <tr>\n",
              "      <th>2601</th>\n",
              "      <td>6361729</td>\n",
              "      <td>Exquisite Los Feliz Mid-Century gem</td>\n",
              "      <td>32700396</td>\n",
              "      <td>Ron</td>\n",
              "      <td>City of Los Angeles</td>\n",
              "      <td>Griffith Park</td>\n",
              "      <td>34.11825</td>\n",
              "      <td>-118.28948</td>\n",
              "      <td>Entire home/apt</td>\n",
              "      <td>950</td>\n",
              "      <td>7</td>\n",
              "      <td>3</td>\n",
              "      <td>2017-07-24</td>\n",
              "      <td>0.03</td>\n",
              "      <td>1</td>\n",
              "      <td>0</td>\n",
              "      <td>0</td>\n",
              "      <td>HSR20-000665</td>\n",
              "    </tr>\n",
              "    <tr>\n",
              "      <th>10160</th>\n",
              "      <td>25010546</td>\n",
              "      <td>Los Feliz, Spanish Hillside Retreat</td>\n",
              "      <td>1457902</td>\n",
              "      <td>Adam</td>\n",
              "      <td>City of Los Angeles</td>\n",
              "      <td>Griffith Park</td>\n",
              "      <td>34.11850</td>\n",
              "      <td>-118.28701</td>\n",
              "      <td>Entire home/apt</td>\n",
              "      <td>480</td>\n",
              "      <td>5</td>\n",
              "      <td>6</td>\n",
              "      <td>2022-07-20</td>\n",
              "      <td>0.11</td>\n",
              "      <td>1</td>\n",
              "      <td>7</td>\n",
              "      <td>2</td>\n",
              "      <td>HSR22-000082</td>\n",
              "    </tr>\n",
              "    <tr>\n",
              "      <th>21335</th>\n",
              "      <td>48785476</td>\n",
              "      <td>Boho Chic Studio- Pet Friendly + Free Parking</td>\n",
              "      <td>60164060</td>\n",
              "      <td>Blue</td>\n",
              "      <td>City of Los Angeles</td>\n",
              "      <td>Griffith Park</td>\n",
              "      <td>34.15456</td>\n",
              "      <td>-118.32231</td>\n",
              "      <td>Entire home/apt</td>\n",
              "      <td>175</td>\n",
              "      <td>3</td>\n",
              "      <td>71</td>\n",
              "      <td>2022-11-26</td>\n",
              "      <td>4.32</td>\n",
              "      <td>1</td>\n",
              "      <td>157</td>\n",
              "      <td>56</td>\n",
              "      <td>NaN</td>\n",
              "    </tr>\n",
              "  </tbody>\n",
              "</table>\n",
              "</div>\n",
              "      <button class=\"colab-df-convert\" onclick=\"convertToInteractive('df-60da935d-7ce2-40cb-b9d5-b1d1f19a5d7d')\"\n",
              "              title=\"Convert this dataframe to an interactive table.\"\n",
              "              style=\"display:none;\">\n",
              "        \n",
              "  <svg xmlns=\"http://www.w3.org/2000/svg\" height=\"24px\"viewBox=\"0 0 24 24\"\n",
              "       width=\"24px\">\n",
              "    <path d=\"M0 0h24v24H0V0z\" fill=\"none\"/>\n",
              "    <path d=\"M18.56 5.44l.94 2.06.94-2.06 2.06-.94-2.06-.94-.94-2.06-.94 2.06-2.06.94zm-11 1L8.5 8.5l.94-2.06 2.06-.94-2.06-.94L8.5 2.5l-.94 2.06-2.06.94zm10 10l.94 2.06.94-2.06 2.06-.94-2.06-.94-.94-2.06-.94 2.06-2.06.94z\"/><path d=\"M17.41 7.96l-1.37-1.37c-.4-.4-.92-.59-1.43-.59-.52 0-1.04.2-1.43.59L10.3 9.45l-7.72 7.72c-.78.78-.78 2.05 0 2.83L4 21.41c.39.39.9.59 1.41.59.51 0 1.02-.2 1.41-.59l7.78-7.78 2.81-2.81c.8-.78.8-2.07 0-2.86zM5.41 20L4 18.59l7.72-7.72 1.47 1.35L5.41 20z\"/>\n",
              "  </svg>\n",
              "      </button>\n",
              "      \n",
              "  <style>\n",
              "    .colab-df-container {\n",
              "      display:flex;\n",
              "      flex-wrap:wrap;\n",
              "      gap: 12px;\n",
              "    }\n",
              "\n",
              "    .colab-df-convert {\n",
              "      background-color: #E8F0FE;\n",
              "      border: none;\n",
              "      border-radius: 50%;\n",
              "      cursor: pointer;\n",
              "      display: none;\n",
              "      fill: #1967D2;\n",
              "      height: 32px;\n",
              "      padding: 0 0 0 0;\n",
              "      width: 32px;\n",
              "    }\n",
              "\n",
              "    .colab-df-convert:hover {\n",
              "      background-color: #E2EBFA;\n",
              "      box-shadow: 0px 1px 2px rgba(60, 64, 67, 0.3), 0px 1px 3px 1px rgba(60, 64, 67, 0.15);\n",
              "      fill: #174EA6;\n",
              "    }\n",
              "\n",
              "    [theme=dark] .colab-df-convert {\n",
              "      background-color: #3B4455;\n",
              "      fill: #D2E3FC;\n",
              "    }\n",
              "\n",
              "    [theme=dark] .colab-df-convert:hover {\n",
              "      background-color: #434B5C;\n",
              "      box-shadow: 0px 1px 3px 1px rgba(0, 0, 0, 0.15);\n",
              "      filter: drop-shadow(0px 1px 2px rgba(0, 0, 0, 0.3));\n",
              "      fill: #FFFFFF;\n",
              "    }\n",
              "  </style>\n",
              "\n",
              "      <script>\n",
              "        const buttonEl =\n",
              "          document.querySelector('#df-60da935d-7ce2-40cb-b9d5-b1d1f19a5d7d button.colab-df-convert');\n",
              "        buttonEl.style.display =\n",
              "          google.colab.kernel.accessAllowed ? 'block' : 'none';\n",
              "\n",
              "        async function convertToInteractive(key) {\n",
              "          const element = document.querySelector('#df-60da935d-7ce2-40cb-b9d5-b1d1f19a5d7d');\n",
              "          const dataTable =\n",
              "            await google.colab.kernel.invokeFunction('convertToInteractive',\n",
              "                                                     [key], {});\n",
              "          if (!dataTable) return;\n",
              "\n",
              "          const docLinkHtml = 'Like what you see? Visit the ' +\n",
              "            '<a target=\"_blank\" href=https://colab.research.google.com/notebooks/data_table.ipynb>data table notebook</a>'\n",
              "            + ' to learn more about interactive tables.';\n",
              "          element.innerHTML = '';\n",
              "          dataTable['output_type'] = 'display_data';\n",
              "          await google.colab.output.renderOutput(dataTable, element);\n",
              "          const docLink = document.createElement('div');\n",
              "          docLink.innerHTML = docLinkHtml;\n",
              "          element.appendChild(docLink);\n",
              "        }\n",
              "      </script>\n",
              "    </div>\n",
              "  </div>\n",
              "  "
            ]
          },
          "metadata": {},
          "execution_count": 102
        }
      ]
    },
    {
      "cell_type": "code",
      "source": [
        "# plotar os imóveis pela latitude-longitude\n",
        "print(df_clean[df_clean.neighbourhood == 'Lake View Terrace'].shape)\n",
        "\n",
        "# ver as 3 entradas de Lake View Terrace\n",
        "df_clean[df_clean.neighbourhood == 'Lake View Terrace']"
      ],
      "metadata": {
        "colab": {
          "base_uri": "https://localhost:8080/",
          "height": 249
        },
        "id": "oMEqJj9pA4ee",
        "outputId": "e1b0e30b-d3f3-4b95-cca7-e250d595683f"
      },
      "execution_count": null,
      "outputs": [
        {
          "output_type": "stream",
          "name": "stdout",
          "text": [
            "(1, 18)\n"
          ]
        },
        {
          "output_type": "execute_result",
          "data": {
            "text/plain": [
              "             id                                   name    host_id host_name  \\\n",
              "18956  45287533  STUNNING LOS ANGELES HOME WITH A VIEW  231171448   Krystal   \n",
              "\n",
              "       neighbourhood_group      neighbourhood  latitude  longitude  \\\n",
              "18956  City of Los Angeles  Lake View Terrace  34.28576 -118.39944   \n",
              "\n",
              "             room_type  price  minimum_nights  number_of_reviews last_review  \\\n",
              "18956  Entire home/apt    447               2                 64  2022-11-19   \n",
              "\n",
              "       reviews_per_month  calculated_host_listings_count  availability_365  \\\n",
              "18956                2.6                               1               350   \n",
              "\n",
              "       number_of_reviews_ltm       license  \n",
              "18956                     23  HSR20-001938  "
            ],
            "text/html": [
              "\n",
              "  <div id=\"df-00ec1417-a4c4-40db-ab5d-9dfb06213c32\">\n",
              "    <div class=\"colab-df-container\">\n",
              "      <div>\n",
              "<style scoped>\n",
              "    .dataframe tbody tr th:only-of-type {\n",
              "        vertical-align: middle;\n",
              "    }\n",
              "\n",
              "    .dataframe tbody tr th {\n",
              "        vertical-align: top;\n",
              "    }\n",
              "\n",
              "    .dataframe thead th {\n",
              "        text-align: right;\n",
              "    }\n",
              "</style>\n",
              "<table border=\"1\" class=\"dataframe\">\n",
              "  <thead>\n",
              "    <tr style=\"text-align: right;\">\n",
              "      <th></th>\n",
              "      <th>id</th>\n",
              "      <th>name</th>\n",
              "      <th>host_id</th>\n",
              "      <th>host_name</th>\n",
              "      <th>neighbourhood_group</th>\n",
              "      <th>neighbourhood</th>\n",
              "      <th>latitude</th>\n",
              "      <th>longitude</th>\n",
              "      <th>room_type</th>\n",
              "      <th>price</th>\n",
              "      <th>minimum_nights</th>\n",
              "      <th>number_of_reviews</th>\n",
              "      <th>last_review</th>\n",
              "      <th>reviews_per_month</th>\n",
              "      <th>calculated_host_listings_count</th>\n",
              "      <th>availability_365</th>\n",
              "      <th>number_of_reviews_ltm</th>\n",
              "      <th>license</th>\n",
              "    </tr>\n",
              "  </thead>\n",
              "  <tbody>\n",
              "    <tr>\n",
              "      <th>18956</th>\n",
              "      <td>45287533</td>\n",
              "      <td>STUNNING LOS ANGELES HOME WITH A VIEW</td>\n",
              "      <td>231171448</td>\n",
              "      <td>Krystal</td>\n",
              "      <td>City of Los Angeles</td>\n",
              "      <td>Lake View Terrace</td>\n",
              "      <td>34.28576</td>\n",
              "      <td>-118.39944</td>\n",
              "      <td>Entire home/apt</td>\n",
              "      <td>447</td>\n",
              "      <td>2</td>\n",
              "      <td>64</td>\n",
              "      <td>2022-11-19</td>\n",
              "      <td>2.6</td>\n",
              "      <td>1</td>\n",
              "      <td>350</td>\n",
              "      <td>23</td>\n",
              "      <td>HSR20-001938</td>\n",
              "    </tr>\n",
              "  </tbody>\n",
              "</table>\n",
              "</div>\n",
              "      <button class=\"colab-df-convert\" onclick=\"convertToInteractive('df-00ec1417-a4c4-40db-ab5d-9dfb06213c32')\"\n",
              "              title=\"Convert this dataframe to an interactive table.\"\n",
              "              style=\"display:none;\">\n",
              "        \n",
              "  <svg xmlns=\"http://www.w3.org/2000/svg\" height=\"24px\"viewBox=\"0 0 24 24\"\n",
              "       width=\"24px\">\n",
              "    <path d=\"M0 0h24v24H0V0z\" fill=\"none\"/>\n",
              "    <path d=\"M18.56 5.44l.94 2.06.94-2.06 2.06-.94-2.06-.94-.94-2.06-.94 2.06-2.06.94zm-11 1L8.5 8.5l.94-2.06 2.06-.94-2.06-.94L8.5 2.5l-.94 2.06-2.06.94zm10 10l.94 2.06.94-2.06 2.06-.94-2.06-.94-.94-2.06-.94 2.06-2.06.94z\"/><path d=\"M17.41 7.96l-1.37-1.37c-.4-.4-.92-.59-1.43-.59-.52 0-1.04.2-1.43.59L10.3 9.45l-7.72 7.72c-.78.78-.78 2.05 0 2.83L4 21.41c.39.39.9.59 1.41.59.51 0 1.02-.2 1.41-.59l7.78-7.78 2.81-2.81c.8-.78.8-2.07 0-2.86zM5.41 20L4 18.59l7.72-7.72 1.47 1.35L5.41 20z\"/>\n",
              "  </svg>\n",
              "      </button>\n",
              "      \n",
              "  <style>\n",
              "    .colab-df-container {\n",
              "      display:flex;\n",
              "      flex-wrap:wrap;\n",
              "      gap: 12px;\n",
              "    }\n",
              "\n",
              "    .colab-df-convert {\n",
              "      background-color: #E8F0FE;\n",
              "      border: none;\n",
              "      border-radius: 50%;\n",
              "      cursor: pointer;\n",
              "      display: none;\n",
              "      fill: #1967D2;\n",
              "      height: 32px;\n",
              "      padding: 0 0 0 0;\n",
              "      width: 32px;\n",
              "    }\n",
              "\n",
              "    .colab-df-convert:hover {\n",
              "      background-color: #E2EBFA;\n",
              "      box-shadow: 0px 1px 2px rgba(60, 64, 67, 0.3), 0px 1px 3px 1px rgba(60, 64, 67, 0.15);\n",
              "      fill: #174EA6;\n",
              "    }\n",
              "\n",
              "    [theme=dark] .colab-df-convert {\n",
              "      background-color: #3B4455;\n",
              "      fill: #D2E3FC;\n",
              "    }\n",
              "\n",
              "    [theme=dark] .colab-df-convert:hover {\n",
              "      background-color: #434B5C;\n",
              "      box-shadow: 0px 1px 3px 1px rgba(0, 0, 0, 0.15);\n",
              "      filter: drop-shadow(0px 1px 2px rgba(0, 0, 0, 0.3));\n",
              "      fill: #FFFFFF;\n",
              "    }\n",
              "  </style>\n",
              "\n",
              "      <script>\n",
              "        const buttonEl =\n",
              "          document.querySelector('#df-00ec1417-a4c4-40db-ab5d-9dfb06213c32 button.colab-df-convert');\n",
              "        buttonEl.style.display =\n",
              "          google.colab.kernel.accessAllowed ? 'block' : 'none';\n",
              "\n",
              "        async function convertToInteractive(key) {\n",
              "          const element = document.querySelector('#df-00ec1417-a4c4-40db-ab5d-9dfb06213c32');\n",
              "          const dataTable =\n",
              "            await google.colab.kernel.invokeFunction('convertToInteractive',\n",
              "                                                     [key], {});\n",
              "          if (!dataTable) return;\n",
              "\n",
              "          const docLinkHtml = 'Like what you see? Visit the ' +\n",
              "            '<a target=\"_blank\" href=https://colab.research.google.com/notebooks/data_table.ipynb>data table notebook</a>'\n",
              "            + ' to learn more about interactive tables.';\n",
              "          element.innerHTML = '';\n",
              "          dataTable['output_type'] = 'display_data';\n",
              "          await google.colab.output.renderOutput(dataTable, element);\n",
              "          const docLink = document.createElement('div');\n",
              "          docLink.innerHTML = docLinkHtml;\n",
              "          element.appendChild(docLink);\n",
              "        }\n",
              "      </script>\n",
              "    </div>\n",
              "  </div>\n",
              "  "
            ]
          },
          "metadata": {},
          "execution_count": 103
        }
      ]
    },
    {
      "cell_type": "markdown",
      "source": [
        "Como são fornecidas as Latitudes e Longitudes para os imóveis, é possível plotar cada ponto. Para isso, considera-se `x=longitude` e `y=latitude`."
      ],
      "metadata": {
        "id": "Sq6YOOW9BRHd"
      }
    },
    {
      "cell_type": "code",
      "source": [
        "# plotar os imóveis pela latitude-longitude\n",
        "df_clean.plot(kind=\"scatter\", x='longitude', y='latitude', alpha=0.4, c=df_clean['price'], s=8,\n",
        "              cmap=plt.get_cmap('jet'), figsize=(12,8));"
      ],
      "metadata": {
        "colab": {
          "base_uri": "https://localhost:8080/",
          "height": 472
        },
        "id": "1x2pTUHGB0r4",
        "outputId": "7f8f71d2-1958-4177-e54a-f3114c97aafa"
      },
      "execution_count": null,
      "outputs": [
        {
          "output_type": "display_data",
          "data": {
            "text/plain": [
              "<Figure size 864x576 with 2 Axes>"
            ],
            "image/png": "[encoded data removed]"
          },
          "metadata": {
            "needs_background": "light"
          }
        }
      ]
    },
    {
      "cell_type": "markdown",
      "source": [
        "<p align=\"justify\"> Agora vamos criar um mapa de calor utilizando a biblioteca folium e a função HeatMap, que utiliza as coordenadas de latitude e longitude dos imóveis para criar uma representação visual da densidade de hospedagens em Los Angeles. Neste caso, vamos plotar o gráfico diretamente no arquivo notebook, porém poderia também ser plotado em um \"arquivo.html\".</p>\n",
        "\n",
        "<p align=\"justify\"> No código abaixo, as coordenadas geográficas  [34.0522, -118.2437] são utilizadas para definir a localização central do mapa que será criado.</p>\n",
        "\n",
        "<p align=\"justify\"> O primeiro elemento [34.0522] corresponde à latitude da localização central do mapa, enquanto a segunda coordenada [-118.2437] corresponde à longitude. Esses valores são utilizados pelo módulo folium para centrar o mapa na região de Los Angeles.</p>\n",
        "\n",
        "<p align=\"justify\">Os valores exatos [34.0522, -118.2437] correspondem à latitude e longitude da Union Station em Los Angeles, que é uma das principais estações de transporte público da cidade e pode ser considerada um ponto central da região.</p>"
      ],
      "metadata": {
        "id": "ZCCTkAhegEs1"
      }
    },
    {
      "cell_type": "code",
      "source": [
        "# criar mapa com centro em Los Angeles\n",
        "mapa = folium.Map(location=[34.0522, -118.2437], zoom_start=10)\n",
        "dados = df[['latitude', 'longitude']].values.tolist()\n",
        "HeatMap(dados).add_to(mapa)\n",
        "\n",
        "# exibir mapa\n",
        "mapa"
      ],
      "metadata": {
        "id": "BGVQ2XH0eSCU"
      },
      "execution_count": null,
      "outputs": []
    },
    {
      "cell_type": "markdown",
      "metadata": {
        "id": "GkvAg623RjoR"
      },
      "source": [
        "## Conclusões\n"
      ]
    },
    {
      "cell_type": "markdown",
      "metadata": {
        "id": "rbZ3Hsy9Ypw8"
      },
      "source": [
        "Ao analisar os dados brutos do arquivo \"listings.csv\", fornecido pelo portal Inside Airbnb para Los Angeles, com última atualização em 06 de dezembro de 2022, podemos obter as seguintes conclusões:<br>\n",
        "\n",
        "><p align=\"justify\">Fica evidente que mesmo realizando uma análise superficial sobre a versão resumida  do dataset do Airbnb, existem *outliers* em algumas variáveis.<br>\n",
        "\n",
        "><p align=\"justify\">Nota-se que em algumas localidades há poucos imóveis disponíveis, o que pode distorcer as informações estatísticas das variáveis analisadas.<br>\n",
        "\n",
        "><p align=\"justify\">O arquivo contém informações sobre 40.438 listagens de acomodação em Los Angeles. Cada linha do arquivo representa uma listagem única.\n",
        "<br>\n",
        "\n",
        "><p align=\"justify\">O arquivo na versão resumida, contém 18 colunas com informações sobre cada listagem. As colunas incluem informações como o Id para identificar o imóvel, o nome da propriedade, Id e nome do anfitrião da propriedade, nome do bairro onde está localizado o imóvel, coordenadas geográficas da propriedade (latitude e longitude), tipo do quarto oferecido na hospedagem, preço do aluguel, quantidade de mínima de noites para reservar o imóvel, número de avaliações da propriedade, quantidade de avaliações por mês, data da última avaliação do imóvel, quantidade de imóveis disponíveis do mesmo anfitrião e o número de dias de disponibilidade do imóvel dentro de 365 dias.\n",
        "<br>\n",
        "\n",
        "><p align=\"justify\">Podemos usar as informações do arquivo para responder a diversas perguntas sobre o mercado de aluguel de acomodações em Los Angeles, como por exemplo: Quais são as regiões mais populares para aluguel de acomodações? Qual é a média de preços por região? Quais tipos de acomodações são mais comuns? Entre outras.<br>\n",
        "\n",
        "><p align=\"justify\">É importante notar que, embora esses dados sejam coletados do site Airbnb, eles são dados públicos e podem ser usados para análises de mercado e outros fins. No entanto, é importante seguir as políticas de uso de dados do site e considerar a privacidade dos proprietários de acomodações.<br>\n",
        "\n",
        "><p align=\"justify\">Por fim, vale lembrar que este *dataset* é uma versão resumida, ideal apenas para uma abordagem inicial. Recomenda-se que seja usado, em uma próxima análise exploratória, o conjunto de dados completos, com 75 atributos disponíveis no arquivo denominado \"listings.csv.gz\".<br>"
      ]
    }
  ]
}